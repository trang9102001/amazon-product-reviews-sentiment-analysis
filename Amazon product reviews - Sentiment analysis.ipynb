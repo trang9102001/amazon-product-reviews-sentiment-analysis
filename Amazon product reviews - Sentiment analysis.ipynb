{
 "cells": [
  {
   "cell_type": "markdown",
   "id": "febd21e0",
   "metadata": {},
   "source": [
    "Họ và tên: Đặng Hữu Trang.\n",
    "Lớp: Phân tích dữ liệu.\n",
    "Ngày sinh: 09/10/2001.\n",
    "SĐT: 0337596730.\n",
    "Email: trang9102001@gmail.com."
   ]
  },
  {
   "cell_type": "code",
   "execution_count": 266,
   "id": "7bea2986",
   "metadata": {},
   "outputs": [],
   "source": [
    "import numpy as np \n",
    "import pandas as pd\n",
    "import os\n",
    "import seaborn as sns\n",
    "import matplotlib.pyplot as plt\n",
    "import openpyxl\n",
    "import re\n",
    "from sklearn.model_selection import GridSearchCV\n",
    "from pandas_profiling import ProfileReport\n",
    "from sklearn import datasets, linear_model, metrics\n",
    "import pprint\n",
    "from sklearn.metrics import roc_auc_score\n",
    "from sklearn.feature_extraction.text import CountVectorizer\n",
    "from sklearn.feature_extraction.text import TfidfVectorizer\n",
    "from sklearn.linear_model import LogisticRegression\n",
    "from sklearn.model_selection import train_test_split\n",
    "from sklearn.dummy import DummyClassifier\n",
    "from string import punctuation\n",
    "from nltk.corpus import stopwords\n",
    "from nltk.stem import WordNetLemmatizer\n",
    "import nltk\n",
    "from nltk import ngrams\n",
    "from itertools import chain\n",
    "from wordcloud import WordCloud"
   ]
  },
  {
   "cell_type": "markdown",
   "id": "02e5e86b",
   "metadata": {},
   "source": [
    "## Tập dữ liệu"
   ]
  },
  {
   "cell_type": "code",
   "execution_count": 213,
   "id": "ec964037",
   "metadata": {},
   "outputs": [
    {
     "name": "stdout",
     "output_type": "stream",
     "text": [
      "(23309, 6)\n"
     ]
    },
    {
     "data": {
      "text/html": [
       "<div>\n",
       "<style scoped>\n",
       "    .dataframe tbody tr th:only-of-type {\n",
       "        vertical-align: middle;\n",
       "    }\n",
       "\n",
       "    .dataframe tbody tr th {\n",
       "        vertical-align: top;\n",
       "    }\n",
       "\n",
       "    .dataframe thead th {\n",
       "        text-align: right;\n",
       "    }\n",
       "</style>\n",
       "<table border=\"1\" class=\"dataframe\">\n",
       "  <thead>\n",
       "    <tr style=\"text-align: right;\">\n",
       "      <th></th>\n",
       "      <th>Product</th>\n",
       "      <th>ProfileName</th>\n",
       "      <th>Score</th>\n",
       "      <th>Time</th>\n",
       "      <th>Summary</th>\n",
       "      <th>Text</th>\n",
       "    </tr>\n",
       "  </thead>\n",
       "  <tbody>\n",
       "    <tr>\n",
       "      <th>0</th>\n",
       "      <td>FineDine 24-Piece Superior Glass Food Storage ...</td>\n",
       "      <td>Cipher469</td>\n",
       "      <td>5</td>\n",
       "      <td>Reviewed in the United States 🇺🇸 on December 2...</td>\n",
       "      <td>Very Good Containers</td>\n",
       "      <td>In the process of transitioning from plastic t...</td>\n",
       "    </tr>\n",
       "    <tr>\n",
       "      <th>1</th>\n",
       "      <td>FineDine 24-Piece Superior Glass Food Storage ...</td>\n",
       "      <td>Amazon Customer</td>\n",
       "      <td>4</td>\n",
       "      <td>Reviewed in the United States 🇺🇸 on December 3...</td>\n",
       "      <td>Upgraded to glassware from plastic, so much be...</td>\n",
       "      <td>Likes: glass so far seems to be quality materi...</td>\n",
       "    </tr>\n",
       "    <tr>\n",
       "      <th>2</th>\n",
       "      <td>FineDine 24-Piece Superior Glass Food Storage ...</td>\n",
       "      <td>Natasha Himle</td>\n",
       "      <td>5</td>\n",
       "      <td>Reviewed in the United States 🇺🇸 on January 3,...</td>\n",
       "      <td>Smaller glass containers work as they should</td>\n",
       "      <td>I purchased these for my household and use the...</td>\n",
       "    </tr>\n",
       "    <tr>\n",
       "      <th>3</th>\n",
       "      <td>FineDine 24-Piece Superior Glass Food Storage ...</td>\n",
       "      <td>kimibear</td>\n",
       "      <td>5</td>\n",
       "      <td>Reviewed in the United States 🇺🇸 on December 2...</td>\n",
       "      <td>The best container for food!</td>\n",
       "      <td>These glass containers are far better than pla...</td>\n",
       "    </tr>\n",
       "    <tr>\n",
       "      <th>4</th>\n",
       "      <td>FineDine 24-Piece Superior Glass Food Storage ...</td>\n",
       "      <td>Heather Curry</td>\n",
       "      <td>4</td>\n",
       "      <td>Reviewed in the United States 🇺🇸 on January 3,...</td>\n",
       "      <td>Heavy duty glass</td>\n",
       "      <td>I guess I'm not great at imagining the size of...</td>\n",
       "    </tr>\n",
       "  </tbody>\n",
       "</table>\n",
       "</div>"
      ],
      "text/plain": [
       "                                             Product      ProfileName  Score  \\\n",
       "0  FineDine 24-Piece Superior Glass Food Storage ...        Cipher469      5   \n",
       "1  FineDine 24-Piece Superior Glass Food Storage ...  Amazon Customer      4   \n",
       "2  FineDine 24-Piece Superior Glass Food Storage ...    Natasha Himle      5   \n",
       "3  FineDine 24-Piece Superior Glass Food Storage ...         kimibear      5   \n",
       "4  FineDine 24-Piece Superior Glass Food Storage ...    Heather Curry      4   \n",
       "\n",
       "                                                Time  \\\n",
       "0  Reviewed in the United States 🇺🇸 on December 2...   \n",
       "1  Reviewed in the United States 🇺🇸 on December 3...   \n",
       "2  Reviewed in the United States 🇺🇸 on January 3,...   \n",
       "3  Reviewed in the United States 🇺🇸 on December 2...   \n",
       "4  Reviewed in the United States 🇺🇸 on January 3,...   \n",
       "\n",
       "                                             Summary  \\\n",
       "0                               Very Good Containers   \n",
       "1  Upgraded to glassware from plastic, so much be...   \n",
       "2       Smaller glass containers work as they should   \n",
       "3                       The best container for food!   \n",
       "4                                   Heavy duty glass   \n",
       "\n",
       "                                                Text  \n",
       "0  In the process of transitioning from plastic t...  \n",
       "1  Likes: glass so far seems to be quality materi...  \n",
       "2  I purchased these for my household and use the...  \n",
       "3  These glass containers are far better than pla...  \n",
       "4  I guess I'm not great at imagining the size of...  "
      ]
     },
     "execution_count": 213,
     "metadata": {},
     "output_type": "execute_result"
    }
   ],
   "source": [
    "df = pd.read_excel('C:/Users/Admin/AMZ-fine-food-review1.xlsx')\n",
    "\n",
    "print(df.shape)\n",
    "df.head()"
   ]
  },
  {
   "cell_type": "code",
   "execution_count": 214,
   "id": "52c969df",
   "metadata": {},
   "outputs": [
    {
     "name": "stdout",
     "output_type": "stream",
     "text": [
      "Số sản phẩm là: 41\n"
     ]
    }
   ],
   "source": [
    "print('Số sản phẩm là: ' + str(len(np.unique(df['Product']))))"
   ]
  },
  {
   "cell_type": "code",
   "execution_count": 215,
   "id": "07e4bb3c",
   "metadata": {},
   "outputs": [
    {
     "name": "stdout",
     "output_type": "stream",
     "text": [
      "Số khách hàng đánh giá là: 11328\n"
     ]
    }
   ],
   "source": [
    "import collections\n",
    "print('Số khách hàng đánh giá là: ' + str(len(collections.Counter((df['ProfileName'])))))"
   ]
  },
  {
   "cell_type": "code",
   "execution_count": 216,
   "id": "c27bf95f",
   "metadata": {},
   "outputs": [
    {
     "data": {
      "text/plain": [
       "0    Reviewed in the United States 🇺🇸 on December 2...\n",
       "1    Reviewed in the United States 🇺🇸 on December 3...\n",
       "2    Reviewed in the United States 🇺🇸 on January 3,...\n",
       "3    Reviewed in the United States 🇺🇸 on December 2...\n",
       "4    Reviewed in the United States 🇺🇸 on January 3,...\n",
       "Name: Time, dtype: object"
      ]
     },
     "execution_count": 216,
     "metadata": {},
     "output_type": "execute_result"
    }
   ],
   "source": [
    "df['Time'].head()"
   ]
  },
  {
   "cell_type": "code",
   "execution_count": 217,
   "id": "1bd44577",
   "metadata": {},
   "outputs": [
    {
     "data": {
      "text/plain": [
       "Product        object\n",
       "ProfileName    object\n",
       "Score           int64\n",
       "Time           object\n",
       "Summary        object\n",
       "Text           object\n",
       "dtype: object"
      ]
     },
     "execution_count": 217,
     "metadata": {},
     "output_type": "execute_result"
    }
   ],
   "source": [
    "df.dtypes"
   ]
  },
  {
   "cell_type": "code",
   "execution_count": 218,
   "id": "dac7ba8f",
   "metadata": {},
   "outputs": [
    {
     "name": "stdout",
     "output_type": "stream",
     "text": [
      "<class 'pandas.core.frame.DataFrame'>\n",
      "RangeIndex: 23309 entries, 0 to 23308\n",
      "Data columns (total 6 columns):\n",
      " #   Column       Non-Null Count  Dtype \n",
      "---  ------       --------------  ----- \n",
      " 0   Product      23309 non-null  object\n",
      " 1   ProfileName  23307 non-null  object\n",
      " 2   Score        23309 non-null  int64 \n",
      " 3   Time         23309 non-null  object\n",
      " 4   Summary      23306 non-null  object\n",
      " 5   Text         23285 non-null  object\n",
      "dtypes: int64(1), object(5)\n",
      "memory usage: 1.1+ MB\n"
     ]
    }
   ],
   "source": [
    "df.info()"
   ]
  },
  {
   "cell_type": "code",
   "execution_count": 219,
   "id": "fab72334",
   "metadata": {},
   "outputs": [
    {
     "data": {
      "text/html": [
       "<div>\n",
       "<style scoped>\n",
       "    .dataframe tbody tr th:only-of-type {\n",
       "        vertical-align: middle;\n",
       "    }\n",
       "\n",
       "    .dataframe tbody tr th {\n",
       "        vertical-align: top;\n",
       "    }\n",
       "\n",
       "    .dataframe thead th {\n",
       "        text-align: right;\n",
       "    }\n",
       "</style>\n",
       "<table border=\"1\" class=\"dataframe\">\n",
       "  <thead>\n",
       "    <tr style=\"text-align: right;\">\n",
       "      <th></th>\n",
       "      <th>Score</th>\n",
       "    </tr>\n",
       "  </thead>\n",
       "  <tbody>\n",
       "    <tr>\n",
       "      <th>count</th>\n",
       "      <td>23309.000000</td>\n",
       "    </tr>\n",
       "    <tr>\n",
       "      <th>mean</th>\n",
       "      <td>4.418508</td>\n",
       "    </tr>\n",
       "    <tr>\n",
       "      <th>std</th>\n",
       "      <td>1.072186</td>\n",
       "    </tr>\n",
       "    <tr>\n",
       "      <th>min</th>\n",
       "      <td>1.000000</td>\n",
       "    </tr>\n",
       "    <tr>\n",
       "      <th>25%</th>\n",
       "      <td>4.000000</td>\n",
       "    </tr>\n",
       "    <tr>\n",
       "      <th>50%</th>\n",
       "      <td>5.000000</td>\n",
       "    </tr>\n",
       "    <tr>\n",
       "      <th>75%</th>\n",
       "      <td>5.000000</td>\n",
       "    </tr>\n",
       "    <tr>\n",
       "      <th>max</th>\n",
       "      <td>5.000000</td>\n",
       "    </tr>\n",
       "  </tbody>\n",
       "</table>\n",
       "</div>"
      ],
      "text/plain": [
       "              Score\n",
       "count  23309.000000\n",
       "mean       4.418508\n",
       "std        1.072186\n",
       "min        1.000000\n",
       "25%        4.000000\n",
       "50%        5.000000\n",
       "75%        5.000000\n",
       "max        5.000000"
      ]
     },
     "execution_count": 219,
     "metadata": {},
     "output_type": "execute_result"
    }
   ],
   "source": [
    "df.describe()"
   ]
  },
  {
   "cell_type": "markdown",
   "id": "585913fa",
   "metadata": {},
   "source": [
    "# Tiền xử lí"
   ]
  },
  {
   "cell_type": "code",
   "execution_count": 220,
   "id": "54503d2c",
   "metadata": {},
   "outputs": [],
   "source": [
    "# Xóa các bản ghi trùng lặp nếu có\n",
    "df.duplicated().sum()\n",
    "df.drop_duplicates(inplace=True)"
   ]
  },
  {
   "cell_type": "code",
   "execution_count": 221,
   "id": "7218db94",
   "metadata": {},
   "outputs": [
    {
     "data": {
      "text/plain": [
       "Product         0\n",
       "ProfileName     2\n",
       "Score           0\n",
       "Time            0\n",
       "Summary         2\n",
       "Text           20\n",
       "dtype: int64"
      ]
     },
     "execution_count": 221,
     "metadata": {},
     "output_type": "execute_result"
    }
   ],
   "source": [
    "# Kiểm tra giá trị null\n",
    "df.isnull().sum()"
   ]
  },
  {
   "cell_type": "code",
   "execution_count": 222,
   "id": "4604b2da",
   "metadata": {},
   "outputs": [
    {
     "data": {
      "text/plain": [
       "Product        0\n",
       "ProfileName    0\n",
       "Score          0\n",
       "Time           0\n",
       "Summary        0\n",
       "Text           0\n",
       "dtype: int64"
      ]
     },
     "execution_count": 222,
     "metadata": {},
     "output_type": "execute_result"
    }
   ],
   "source": [
    "#Xóa các giá trị null khỏi tập dữ liệu\n",
    "df.dropna(how='any',inplace=True)\n",
    "df.isnull().sum()"
   ]
  },
  {
   "cell_type": "code",
   "execution_count": 223,
   "id": "2cb8bda0",
   "metadata": {},
   "outputs": [
    {
     "data": {
      "text/html": [
       "<div>\n",
       "<style scoped>\n",
       "    .dataframe tbody tr th:only-of-type {\n",
       "        vertical-align: middle;\n",
       "    }\n",
       "\n",
       "    .dataframe tbody tr th {\n",
       "        vertical-align: top;\n",
       "    }\n",
       "\n",
       "    .dataframe thead th {\n",
       "        text-align: right;\n",
       "    }\n",
       "</style>\n",
       "<table border=\"1\" class=\"dataframe\">\n",
       "  <thead>\n",
       "    <tr style=\"text-align: right;\">\n",
       "      <th></th>\n",
       "      <th>Product</th>\n",
       "      <th>ProfileName</th>\n",
       "      <th>Score</th>\n",
       "      <th>Time</th>\n",
       "      <th>Summary</th>\n",
       "      <th>Text</th>\n",
       "    </tr>\n",
       "  </thead>\n",
       "  <tbody>\n",
       "    <tr>\n",
       "      <th>0</th>\n",
       "      <td>FineDine 24-Piece Superior Glass Food Storage ...</td>\n",
       "      <td>Cipher469</td>\n",
       "      <td>5</td>\n",
       "      <td>Reviewed in the United States 🇺🇸 on December 2...</td>\n",
       "      <td>Very Good Containers</td>\n",
       "      <td>In the process of transitioning from plastic t...</td>\n",
       "    </tr>\n",
       "    <tr>\n",
       "      <th>1</th>\n",
       "      <td>FineDine 24-Piece Superior Glass Food Storage ...</td>\n",
       "      <td>Amazon Customer</td>\n",
       "      <td>4</td>\n",
       "      <td>Reviewed in the United States 🇺🇸 on December 3...</td>\n",
       "      <td>Upgraded to glassware from plastic, so much be...</td>\n",
       "      <td>Likes: glass so far seems to be quality materi...</td>\n",
       "    </tr>\n",
       "    <tr>\n",
       "      <th>2</th>\n",
       "      <td>FineDine 24-Piece Superior Glass Food Storage ...</td>\n",
       "      <td>Natasha Himle</td>\n",
       "      <td>5</td>\n",
       "      <td>Reviewed in the United States 🇺🇸 on January 3,...</td>\n",
       "      <td>Smaller glass containers work as they should</td>\n",
       "      <td>I purchased these for my household and use the...</td>\n",
       "    </tr>\n",
       "    <tr>\n",
       "      <th>3</th>\n",
       "      <td>FineDine 24-Piece Superior Glass Food Storage ...</td>\n",
       "      <td>kimibear</td>\n",
       "      <td>5</td>\n",
       "      <td>Reviewed in the United States 🇺🇸 on December 2...</td>\n",
       "      <td>The best container for food!</td>\n",
       "      <td>These glass containers are far better than pla...</td>\n",
       "    </tr>\n",
       "    <tr>\n",
       "      <th>4</th>\n",
       "      <td>FineDine 24-Piece Superior Glass Food Storage ...</td>\n",
       "      <td>Heather Curry</td>\n",
       "      <td>4</td>\n",
       "      <td>Reviewed in the United States 🇺🇸 on January 3,...</td>\n",
       "      <td>Heavy duty glass</td>\n",
       "      <td>I guess I'm not great at imagining the size of...</td>\n",
       "    </tr>\n",
       "  </tbody>\n",
       "</table>\n",
       "</div>"
      ],
      "text/plain": [
       "                                             Product      ProfileName  Score  \\\n",
       "0  FineDine 24-Piece Superior Glass Food Storage ...        Cipher469      5   \n",
       "1  FineDine 24-Piece Superior Glass Food Storage ...  Amazon Customer      4   \n",
       "2  FineDine 24-Piece Superior Glass Food Storage ...    Natasha Himle      5   \n",
       "3  FineDine 24-Piece Superior Glass Food Storage ...         kimibear      5   \n",
       "4  FineDine 24-Piece Superior Glass Food Storage ...    Heather Curry      4   \n",
       "\n",
       "                                                Time  \\\n",
       "0  Reviewed in the United States 🇺🇸 on December 2...   \n",
       "1  Reviewed in the United States 🇺🇸 on December 3...   \n",
       "2  Reviewed in the United States 🇺🇸 on January 3,...   \n",
       "3  Reviewed in the United States 🇺🇸 on December 2...   \n",
       "4  Reviewed in the United States 🇺🇸 on January 3,...   \n",
       "\n",
       "                                             Summary  \\\n",
       "0                               Very Good Containers   \n",
       "1  Upgraded to glassware from plastic, so much be...   \n",
       "2       Smaller glass containers work as they should   \n",
       "3                       The best container for food!   \n",
       "4                                   Heavy duty glass   \n",
       "\n",
       "                                                Text  \n",
       "0  In the process of transitioning from plastic t...  \n",
       "1  Likes: glass so far seems to be quality materi...  \n",
       "2  I purchased these for my household and use the...  \n",
       "3  These glass containers are far better than pla...  \n",
       "4  I guess I'm not great at imagining the size of...  "
      ]
     },
     "execution_count": 223,
     "metadata": {},
     "output_type": "execute_result"
    }
   ],
   "source": [
    "df.head()"
   ]
  },
  {
   "cell_type": "code",
   "execution_count": 224,
   "id": "80bc5f17",
   "metadata": {},
   "outputs": [
    {
     "name": "stderr",
     "output_type": "stream",
     "text": [
      "C:\\Users\\Admin\\anaconda3\\lib\\site-packages\\seaborn\\_decorators.py:36: FutureWarning: Pass the following variable as a keyword arg: x. From version 0.12, the only valid positional argument will be `data`, and passing other arguments without an explicit keyword will result in an error or misinterpretation.\n",
      "  warnings.warn(\n"
     ]
    },
    {
     "data": {
      "text/plain": [
       "Text(0.5, 1.0, 'Score')"
      ]
     },
     "execution_count": 224,
     "metadata": {},
     "output_type": "execute_result"
    },
    {
     "data": {
      "image/png": "[encoded data removed]",
      "text/plain": [
       "<Figure size 720x720 with 1 Axes>"
      ]
     },
     "metadata": {
      "needs_background": "light"
     },
     "output_type": "display_data"
    }
   ],
   "source": [
    "# số lượng đánh giá theo điểm\n",
    "import seaborn as sns\n",
    "sns.countplot(df['Score'], palette=\"plasma\")\n",
    "fig = plt.gcf()\n",
    "fig.set_size_inches(10,10)\n",
    "plt.title('Score')"
   ]
  },
  {
   "cell_type": "code",
   "execution_count": 225,
   "id": "844e81af",
   "metadata": {},
   "outputs": [
    {
     "name": "stdout",
     "output_type": "stream",
     "text": [
      "(18262, 2)\n"
     ]
    },
    {
     "data": {
      "text/html": [
       "<div>\n",
       "<style scoped>\n",
       "    .dataframe tbody tr th:only-of-type {\n",
       "        vertical-align: middle;\n",
       "    }\n",
       "\n",
       "    .dataframe tbody tr th {\n",
       "        vertical-align: top;\n",
       "    }\n",
       "\n",
       "    .dataframe thead th {\n",
       "        text-align: right;\n",
       "    }\n",
       "</style>\n",
       "<table border=\"1\" class=\"dataframe\">\n",
       "  <thead>\n",
       "    <tr style=\"text-align: right;\">\n",
       "      <th></th>\n",
       "      <th>Score</th>\n",
       "      <th>Text</th>\n",
       "    </tr>\n",
       "  </thead>\n",
       "  <tbody>\n",
       "    <tr>\n",
       "      <th>0</th>\n",
       "      <td>5</td>\n",
       "      <td>In the process of transitioning from plastic t...</td>\n",
       "    </tr>\n",
       "    <tr>\n",
       "      <th>1</th>\n",
       "      <td>4</td>\n",
       "      <td>Likes: glass so far seems to be quality materi...</td>\n",
       "    </tr>\n",
       "    <tr>\n",
       "      <th>2</th>\n",
       "      <td>5</td>\n",
       "      <td>I purchased these for my household and use the...</td>\n",
       "    </tr>\n",
       "    <tr>\n",
       "      <th>3</th>\n",
       "      <td>5</td>\n",
       "      <td>These glass containers are far better than pla...</td>\n",
       "    </tr>\n",
       "    <tr>\n",
       "      <th>4</th>\n",
       "      <td>4</td>\n",
       "      <td>I guess I'm not great at imagining the size of...</td>\n",
       "    </tr>\n",
       "  </tbody>\n",
       "</table>\n",
       "</div>"
      ],
      "text/plain": [
       "   Score                                               Text\n",
       "0      5  In the process of transitioning from plastic t...\n",
       "1      4  Likes: glass so far seems to be quality materi...\n",
       "2      5  I purchased these for my household and use the...\n",
       "3      5  These glass containers are far better than pla...\n",
       "4      4  I guess I'm not great at imagining the size of..."
      ]
     },
     "execution_count": 225,
     "metadata": {},
     "output_type": "execute_result"
    }
   ],
   "source": [
    "rating_df = pd.DataFrame(df, columns=['Score', 'Text'])\n",
    "\n",
    "print(rating_df.shape)\n",
    "rating_df.head()"
   ]
  },
  {
   "cell_type": "code",
   "execution_count": 226,
   "id": "0d9b2276",
   "metadata": {},
   "outputs": [
    {
     "data": {
      "text/plain": [
       "5    12753\n",
       "4     2645\n",
       "3     1352\n",
       "1      954\n",
       "2      558\n",
       "Name: Score, dtype: int64"
      ]
     },
     "execution_count": 226,
     "metadata": {},
     "output_type": "execute_result"
    }
   ],
   "source": [
    "rating_df['Score'].astype('category').value_counts()"
   ]
  },
  {
   "cell_type": "code",
   "execution_count": 227,
   "id": "822e297d",
   "metadata": {},
   "outputs": [
    {
     "data": {
      "text/html": [
       "<div>\n",
       "<style scoped>\n",
       "    .dataframe tbody tr th:only-of-type {\n",
       "        vertical-align: middle;\n",
       "    }\n",
       "\n",
       "    .dataframe tbody tr th {\n",
       "        vertical-align: top;\n",
       "    }\n",
       "\n",
       "    .dataframe thead th {\n",
       "        text-align: right;\n",
       "    }\n",
       "</style>\n",
       "<table border=\"1\" class=\"dataframe\">\n",
       "  <thead>\n",
       "    <tr style=\"text-align: right;\">\n",
       "      <th></th>\n",
       "      <th>Score</th>\n",
       "      <th>Text</th>\n",
       "    </tr>\n",
       "  </thead>\n",
       "  <tbody>\n",
       "    <tr>\n",
       "      <th>0</th>\n",
       "      <td>5</td>\n",
       "      <td>in the process of transitioning from plastic t...</td>\n",
       "    </tr>\n",
       "    <tr>\n",
       "      <th>1</th>\n",
       "      <td>4</td>\n",
       "      <td>likes: glass so far seems to be quality materi...</td>\n",
       "    </tr>\n",
       "    <tr>\n",
       "      <th>2</th>\n",
       "      <td>5</td>\n",
       "      <td>i purchased these for my household and use the...</td>\n",
       "    </tr>\n",
       "    <tr>\n",
       "      <th>3</th>\n",
       "      <td>5</td>\n",
       "      <td>these glass containers are far better than pla...</td>\n",
       "    </tr>\n",
       "    <tr>\n",
       "      <th>4</th>\n",
       "      <td>4</td>\n",
       "      <td>i guess i'm not great at imagining the size of...</td>\n",
       "    </tr>\n",
       "  </tbody>\n",
       "</table>\n",
       "</div>"
      ],
      "text/plain": [
       "   Score                                               Text\n",
       "0      5  in the process of transitioning from plastic t...\n",
       "1      4  likes: glass so far seems to be quality materi...\n",
       "2      5  i purchased these for my household and use the...\n",
       "3      5  these glass containers are far better than pla...\n",
       "4      4  i guess i'm not great at imagining the size of..."
      ]
     },
     "execution_count": 227,
     "metadata": {},
     "output_type": "execute_result"
    }
   ],
   "source": [
    "# Chuyển về chữ thường\n",
    "rating_df['Text'] = rating_df['Text'].str.lower()\n",
    "rating_df.head()"
   ]
  },
  {
   "cell_type": "code",
   "execution_count": 228,
   "id": "4f4a142c",
   "metadata": {},
   "outputs": [
    {
     "data": {
      "text/html": [
       "<div>\n",
       "<style scoped>\n",
       "    .dataframe tbody tr th:only-of-type {\n",
       "        vertical-align: middle;\n",
       "    }\n",
       "\n",
       "    .dataframe tbody tr th {\n",
       "        vertical-align: top;\n",
       "    }\n",
       "\n",
       "    .dataframe thead th {\n",
       "        text-align: right;\n",
       "    }\n",
       "</style>\n",
       "<table border=\"1\" class=\"dataframe\">\n",
       "  <thead>\n",
       "    <tr style=\"text-align: right;\">\n",
       "      <th></th>\n",
       "      <th>Score</th>\n",
       "      <th>Text</th>\n",
       "    </tr>\n",
       "  </thead>\n",
       "  <tbody>\n",
       "    <tr>\n",
       "      <th>0</th>\n",
       "      <td>5</td>\n",
       "      <td>in the process of transitioning from plastic t...</td>\n",
       "    </tr>\n",
       "    <tr>\n",
       "      <th>1</th>\n",
       "      <td>4</td>\n",
       "      <td>likes glass so far seems to be quality materia...</td>\n",
       "    </tr>\n",
       "    <tr>\n",
       "      <th>2</th>\n",
       "      <td>5</td>\n",
       "      <td>i purchased these for my household and use the...</td>\n",
       "    </tr>\n",
       "    <tr>\n",
       "      <th>3</th>\n",
       "      <td>5</td>\n",
       "      <td>these glass containers are far better than pla...</td>\n",
       "    </tr>\n",
       "    <tr>\n",
       "      <th>4</th>\n",
       "      <td>4</td>\n",
       "      <td>i guess im not great at imagining the size of ...</td>\n",
       "    </tr>\n",
       "  </tbody>\n",
       "</table>\n",
       "</div>"
      ],
      "text/plain": [
       "   Score                                               Text\n",
       "0      5  in the process of transitioning from plastic t...\n",
       "1      4  likes glass so far seems to be quality materia...\n",
       "2      5  i purchased these for my household and use the...\n",
       "3      5  these glass containers are far better than pla...\n",
       "4      4  i guess im not great at imagining the size of ..."
      ]
     },
     "execution_count": 228,
     "metadata": {},
     "output_type": "execute_result"
    }
   ],
   "source": [
    "# Loại bỏ dấu câu\n",
    "import string\n",
    "PUNCT_TO_REMOVE = string.punctuation\n",
    "def remove_punctuation(text):\n",
    "    return text.translate(str.maketrans('', '', PUNCT_TO_REMOVE))\n",
    "    #   '!\"#$%&\\'()*+,-./:;<=>?@[\\\\]^_`{|}~'\n",
    "\n",
    "rating_df['Text'] = rating_df['Text'].apply(lambda text: remove_punctuation(text))\n",
    "rating_df.head()"
   ]
  },
  {
   "cell_type": "code",
   "execution_count": 229,
   "id": "9c017eb2",
   "metadata": {},
   "outputs": [
    {
     "data": {
      "text/html": [
       "<div>\n",
       "<style scoped>\n",
       "    .dataframe tbody tr th:only-of-type {\n",
       "        vertical-align: middle;\n",
       "    }\n",
       "\n",
       "    .dataframe tbody tr th {\n",
       "        vertical-align: top;\n",
       "    }\n",
       "\n",
       "    .dataframe thead th {\n",
       "        text-align: right;\n",
       "    }\n",
       "</style>\n",
       "<table border=\"1\" class=\"dataframe\">\n",
       "  <thead>\n",
       "    <tr style=\"text-align: right;\">\n",
       "      <th></th>\n",
       "      <th>Score</th>\n",
       "      <th>Text</th>\n",
       "    </tr>\n",
       "  </thead>\n",
       "  <tbody>\n",
       "    <tr>\n",
       "      <th>0</th>\n",
       "      <td>5</td>\n",
       "      <td>process transitioning plastic glasses containe...</td>\n",
       "    </tr>\n",
       "    <tr>\n",
       "      <th>1</th>\n",
       "      <td>4</td>\n",
       "      <td>likes glass far seems quality material lids fi...</td>\n",
       "    </tr>\n",
       "    <tr>\n",
       "      <th>2</th>\n",
       "      <td>5</td>\n",
       "      <td>purchased household use time perfect chopped v...</td>\n",
       "    </tr>\n",
       "    <tr>\n",
       "      <th>3</th>\n",
       "      <td>5</td>\n",
       "      <td>glass containers far better plastic ones look ...</td>\n",
       "    </tr>\n",
       "    <tr>\n",
       "      <th>4</th>\n",
       "      <td>4</td>\n",
       "      <td>guess im great imagining size things seem quit...</td>\n",
       "    </tr>\n",
       "  </tbody>\n",
       "</table>\n",
       "</div>"
      ],
      "text/plain": [
       "   Score                                               Text\n",
       "0      5  process transitioning plastic glasses containe...\n",
       "1      4  likes glass far seems quality material lids fi...\n",
       "2      5  purchased household use time perfect chopped v...\n",
       "3      5  glass containers far better plastic ones look ...\n",
       "4      4  guess im great imagining size things seem quit..."
      ]
     },
     "execution_count": 229,
     "metadata": {},
     "output_type": "execute_result"
    }
   ],
   "source": [
    "# Loại bỏ Stopwords\n",
    "from nltk.corpus import stopwords\n",
    "STOPWORDS = set(stopwords.words('english'))\n",
    "def remove_stopwords(text):\n",
    "    return \" \".join([word for word in str(text).split() if word not in STOPWORDS])\n",
    "\n",
    "rating_df['Text'] = rating_df['Text'].apply(lambda text: remove_stopwords(text))\n",
    "rating_df.head()"
   ]
  },
  {
   "cell_type": "code",
   "execution_count": 230,
   "id": "8751f2c4",
   "metadata": {},
   "outputs": [
    {
     "data": {
      "text/html": [
       "<div>\n",
       "<style scoped>\n",
       "    .dataframe tbody tr th:only-of-type {\n",
       "        vertical-align: middle;\n",
       "    }\n",
       "\n",
       "    .dataframe tbody tr th {\n",
       "        vertical-align: top;\n",
       "    }\n",
       "\n",
       "    .dataframe thead th {\n",
       "        text-align: right;\n",
       "    }\n",
       "</style>\n",
       "<table border=\"1\" class=\"dataframe\">\n",
       "  <thead>\n",
       "    <tr style=\"text-align: right;\">\n",
       "      <th></th>\n",
       "      <th>Score</th>\n",
       "      <th>Text</th>\n",
       "    </tr>\n",
       "  </thead>\n",
       "  <tbody>\n",
       "    <tr>\n",
       "      <th>0</th>\n",
       "      <td>5</td>\n",
       "      <td>process transitioning plastic glasses containe...</td>\n",
       "    </tr>\n",
       "    <tr>\n",
       "      <th>1</th>\n",
       "      <td>4</td>\n",
       "      <td>likes glass far seems quality material lids fi...</td>\n",
       "    </tr>\n",
       "    <tr>\n",
       "      <th>2</th>\n",
       "      <td>5</td>\n",
       "      <td>purchased household use time perfect chopped v...</td>\n",
       "    </tr>\n",
       "    <tr>\n",
       "      <th>3</th>\n",
       "      <td>5</td>\n",
       "      <td>glass containers far better plastic ones look ...</td>\n",
       "    </tr>\n",
       "    <tr>\n",
       "      <th>4</th>\n",
       "      <td>4</td>\n",
       "      <td>guess im great imagining size things seem quit...</td>\n",
       "    </tr>\n",
       "  </tbody>\n",
       "</table>\n",
       "</div>"
      ],
      "text/plain": [
       "   Score                                               Text\n",
       "0      5  process transitioning plastic glasses containe...\n",
       "1      4  likes glass far seems quality material lids fi...\n",
       "2      5  purchased household use time perfect chopped v...\n",
       "3      5  glass containers far better plastic ones look ...\n",
       "4      4  guess im great imagining size things seem quit..."
      ]
     },
     "execution_count": 230,
     "metadata": {},
     "output_type": "execute_result"
    }
   ],
   "source": [
    "# Loại bỏ urls\n",
    "# Chuỗi biểu thức chính quy được chuyển đổi từ một chuỗi thành một lớp mẫu biểu thức chính quy\n",
    "def remove_urls(text):\n",
    "    url_pattern = re.compile(r'https?://\\S+|www\\.\\S+')\n",
    "    return url_pattern.sub(r'', text)\n",
    "\n",
    "rating_df['Text'] = rating_df['Text'].apply(lambda text: remove_urls(text))\n",
    "rating_df.head()"
   ]
  },
  {
   "cell_type": "code",
   "execution_count": 231,
   "id": "7e12416d",
   "metadata": {},
   "outputs": [
    {
     "data": {
      "image/png": "[encoded data removed]",
      "text/plain": [
       "<Figure size 432x288 with 1 Axes>"
      ]
     },
     "metadata": {
      "needs_background": "light"
     },
     "output_type": "display_data"
    },
    {
     "data": {
      "text/plain": [
       "<wordcloud.wordcloud.WordCloud at 0x17620723a90>"
      ]
     },
     "execution_count": 231,
     "metadata": {},
     "output_type": "execute_result"
    }
   ],
   "source": [
    "#WordCloud cho Text\n",
    "text = df.Text\n",
    "\n",
    "x = \"\"\n",
    "for t in text:\n",
    "    x = x + t\n",
    "\n",
    "# Create and generate a word cloud image:\n",
    "wordcloud = WordCloud(max_font_size=50, max_words=1000,\n",
    "                      width=1350, height=760).generate(x)\n",
    "\n",
    "# Display the generated image:\n",
    "plt.imshow(wordcloud, interpolation='bilinear')\n",
    "plt.axis(\"off\")\n",
    "plt.show()\n",
    "wordcloud.to_file(\"wordcloud.png\")"
   ]
  },
  {
   "cell_type": "markdown",
   "id": "e7a639c1",
   "metadata": {},
   "source": [
    "# Trích chọn đặc trưng\n",
    "Cột Điểm được chia tỷ lệ từ 1 đến 5 và ta sẽ xóa tất cả các Score bằng 3 vì tôi cho rằng đây là những điểm trung lập và không cung cấp bất kỳ thông tin hữu ích nào. Sau đó, thêm một cột mới có tên là \"Target\", trong đó bất kỳ điểm nào trên 3 được mã hóa thành 1, cho biết điểm đó được xếp hạng tích cực. Nếu không, nó sẽ được mã hóa thành 0, cho biết nó đã bị xếp hạng tiêu cực."
   ]
  },
  {
   "cell_type": "code",
   "execution_count": 232,
   "id": "ba771828",
   "metadata": {},
   "outputs": [
    {
     "data": {
      "text/html": [
       "<div>\n",
       "<style scoped>\n",
       "    .dataframe tbody tr th:only-of-type {\n",
       "        vertical-align: middle;\n",
       "    }\n",
       "\n",
       "    .dataframe tbody tr th {\n",
       "        vertical-align: top;\n",
       "    }\n",
       "\n",
       "    .dataframe thead th {\n",
       "        text-align: right;\n",
       "    }\n",
       "</style>\n",
       "<table border=\"1\" class=\"dataframe\">\n",
       "  <thead>\n",
       "    <tr style=\"text-align: right;\">\n",
       "      <th></th>\n",
       "      <th>Product</th>\n",
       "      <th>ProfileName</th>\n",
       "      <th>Score</th>\n",
       "      <th>Time</th>\n",
       "      <th>Summary</th>\n",
       "      <th>Text</th>\n",
       "      <th>Target</th>\n",
       "    </tr>\n",
       "  </thead>\n",
       "  <tbody>\n",
       "    <tr>\n",
       "      <th>0</th>\n",
       "      <td>FineDine 24-Piece Superior Glass Food Storage ...</td>\n",
       "      <td>Cipher469</td>\n",
       "      <td>5</td>\n",
       "      <td>Reviewed in the United States 🇺🇸 on December 2...</td>\n",
       "      <td>Very Good Containers</td>\n",
       "      <td>In the process of transitioning from plastic t...</td>\n",
       "      <td>1</td>\n",
       "    </tr>\n",
       "    <tr>\n",
       "      <th>1</th>\n",
       "      <td>FineDine 24-Piece Superior Glass Food Storage ...</td>\n",
       "      <td>Amazon Customer</td>\n",
       "      <td>4</td>\n",
       "      <td>Reviewed in the United States 🇺🇸 on December 3...</td>\n",
       "      <td>Upgraded to glassware from plastic, so much be...</td>\n",
       "      <td>Likes: glass so far seems to be quality materi...</td>\n",
       "      <td>1</td>\n",
       "    </tr>\n",
       "    <tr>\n",
       "      <th>2</th>\n",
       "      <td>FineDine 24-Piece Superior Glass Food Storage ...</td>\n",
       "      <td>Natasha Himle</td>\n",
       "      <td>5</td>\n",
       "      <td>Reviewed in the United States 🇺🇸 on January 3,...</td>\n",
       "      <td>Smaller glass containers work as they should</td>\n",
       "      <td>I purchased these for my household and use the...</td>\n",
       "      <td>1</td>\n",
       "    </tr>\n",
       "    <tr>\n",
       "      <th>3</th>\n",
       "      <td>FineDine 24-Piece Superior Glass Food Storage ...</td>\n",
       "      <td>kimibear</td>\n",
       "      <td>5</td>\n",
       "      <td>Reviewed in the United States 🇺🇸 on December 2...</td>\n",
       "      <td>The best container for food!</td>\n",
       "      <td>These glass containers are far better than pla...</td>\n",
       "      <td>1</td>\n",
       "    </tr>\n",
       "    <tr>\n",
       "      <th>4</th>\n",
       "      <td>FineDine 24-Piece Superior Glass Food Storage ...</td>\n",
       "      <td>Heather Curry</td>\n",
       "      <td>4</td>\n",
       "      <td>Reviewed in the United States 🇺🇸 on January 3,...</td>\n",
       "      <td>Heavy duty glass</td>\n",
       "      <td>I guess I'm not great at imagining the size of...</td>\n",
       "      <td>1</td>\n",
       "    </tr>\n",
       "  </tbody>\n",
       "</table>\n",
       "</div>"
      ],
      "text/plain": [
       "                                             Product      ProfileName  Score  \\\n",
       "0  FineDine 24-Piece Superior Glass Food Storage ...        Cipher469      5   \n",
       "1  FineDine 24-Piece Superior Glass Food Storage ...  Amazon Customer      4   \n",
       "2  FineDine 24-Piece Superior Glass Food Storage ...    Natasha Himle      5   \n",
       "3  FineDine 24-Piece Superior Glass Food Storage ...         kimibear      5   \n",
       "4  FineDine 24-Piece Superior Glass Food Storage ...    Heather Curry      4   \n",
       "\n",
       "                                                Time  \\\n",
       "0  Reviewed in the United States 🇺🇸 on December 2...   \n",
       "1  Reviewed in the United States 🇺🇸 on December 3...   \n",
       "2  Reviewed in the United States 🇺🇸 on January 3,...   \n",
       "3  Reviewed in the United States 🇺🇸 on December 2...   \n",
       "4  Reviewed in the United States 🇺🇸 on January 3,...   \n",
       "\n",
       "                                             Summary  \\\n",
       "0                               Very Good Containers   \n",
       "1  Upgraded to glassware from plastic, so much be...   \n",
       "2       Smaller glass containers work as they should   \n",
       "3                       The best container for food!   \n",
       "4                                   Heavy duty glass   \n",
       "\n",
       "                                                Text  Target  \n",
       "0  In the process of transitioning from plastic t...       1  \n",
       "1  Likes: glass so far seems to be quality materi...       1  \n",
       "2  I purchased these for my household and use the...       1  \n",
       "3  These glass containers are far better than pla...       1  \n",
       "4  I guess I'm not great at imagining the size of...       1  "
      ]
     },
     "execution_count": 232,
     "metadata": {},
     "output_type": "execute_result"
    }
   ],
   "source": [
    "df[df['Score'] != 3] \n",
    "df['Target'] = np.where(df['Score'] > 3, 1, 0) \n",
    "df.head()"
   ]
  },
  {
   "cell_type": "markdown",
   "id": "c322ad8c",
   "metadata": {},
   "source": [
    "Chia dữ liệu thành các tập train và test ngẫu nhiên bằng cách sử dụng các cột “Text” và “Target”"
   ]
  },
  {
   "cell_type": "code",
   "execution_count": 268,
   "id": "af496525",
   "metadata": {},
   "outputs": [
    {
     "name": "stdout",
     "output_type": "stream",
     "text": [
      "\n",
      "\n",
      "X_train shape:  (13696,)\n",
      "\n",
      "\n",
      "X_test shape:  (4566,)\n"
     ]
    }
   ],
   "source": [
    "X_train, X_test, y_train, y_test = train_test_split(df['Text'], df['Target'], random_state = 0)\n",
    "print('\\n\\nX_train shape: ', X_train.shape)\n",
    "print('\\n\\nX_test shape: ', X_test.shape)"
   ]
  },
  {
   "cell_type": "markdown",
   "id": "89a74bb5",
   "metadata": {},
   "source": [
    "## Bags-of-words\n",
    "Cách đơn giản và trực quan nhất là biểu diễn “ Bags-of-words ” bỏ qua cấu trúc và chỉ đơn giản là đếm tần suất xuất hiện của mỗi từ. CountVectorizer cho phép ta sử dụng cách tiếp cận Bags-of-words , bằng cách chuyển đổi một tập hợp các tài liệu văn bản thành một ma trận token counts.\n",
    "\n",
    "Chúng ta khởi tạo CountVectorizer và khớp nó với dữ liệu đào tạo của mình, chuyển đổi dữ liệu văn bản thành một ma trận số lượng mã thông báo."
   ]
  },
  {
   "cell_type": "code",
   "execution_count": 235,
   "id": "6825013c",
   "metadata": {},
   "outputs": [
    {
     "data": {
      "text/html": [
       "<style>#sk-container-id-24 {color: black;background-color: white;}#sk-container-id-24 pre{padding: 0;}#sk-container-id-24 div.sk-toggleable {background-color: white;}#sk-container-id-24 label.sk-toggleable__label {cursor: pointer;display: block;width: 100%;margin-bottom: 0;padding: 0.3em;box-sizing: border-box;text-align: center;}#sk-container-id-24 label.sk-toggleable__label-arrow:before {content: \"▸\";float: left;margin-right: 0.25em;color: #696969;}#sk-container-id-24 label.sk-toggleable__label-arrow:hover:before {color: black;}#sk-container-id-24 div.sk-estimator:hover label.sk-toggleable__label-arrow:before {color: black;}#sk-container-id-24 div.sk-toggleable__content {max-height: 0;max-width: 0;overflow: hidden;text-align: left;background-color: #f0f8ff;}#sk-container-id-24 div.sk-toggleable__content pre {margin: 0.2em;color: black;border-radius: 0.25em;background-color: #f0f8ff;}#sk-container-id-24 input.sk-toggleable__control:checked~div.sk-toggleable__content {max-height: 200px;max-width: 100%;overflow: auto;}#sk-container-id-24 input.sk-toggleable__control:checked~label.sk-toggleable__label-arrow:before {content: \"▾\";}#sk-container-id-24 div.sk-estimator input.sk-toggleable__control:checked~label.sk-toggleable__label {background-color: #d4ebff;}#sk-container-id-24 div.sk-label input.sk-toggleable__control:checked~label.sk-toggleable__label {background-color: #d4ebff;}#sk-container-id-24 input.sk-hidden--visually {border: 0;clip: rect(1px 1px 1px 1px);clip: rect(1px, 1px, 1px, 1px);height: 1px;margin: -1px;overflow: hidden;padding: 0;position: absolute;width: 1px;}#sk-container-id-24 div.sk-estimator {font-family: monospace;background-color: #f0f8ff;border: 1px dotted black;border-radius: 0.25em;box-sizing: border-box;margin-bottom: 0.5em;}#sk-container-id-24 div.sk-estimator:hover {background-color: #d4ebff;}#sk-container-id-24 div.sk-parallel-item::after {content: \"\";width: 100%;border-bottom: 1px solid gray;flex-grow: 1;}#sk-container-id-24 div.sk-label:hover label.sk-toggleable__label {background-color: #d4ebff;}#sk-container-id-24 div.sk-serial::before {content: \"\";position: absolute;border-left: 1px solid gray;box-sizing: border-box;top: 0;bottom: 0;left: 50%;z-index: 0;}#sk-container-id-24 div.sk-serial {display: flex;flex-direction: column;align-items: center;background-color: white;padding-right: 0.2em;padding-left: 0.2em;position: relative;}#sk-container-id-24 div.sk-item {position: relative;z-index: 1;}#sk-container-id-24 div.sk-parallel {display: flex;align-items: stretch;justify-content: center;background-color: white;position: relative;}#sk-container-id-24 div.sk-item::before, #sk-container-id-24 div.sk-parallel-item::before {content: \"\";position: absolute;border-left: 1px solid gray;box-sizing: border-box;top: 0;bottom: 0;left: 50%;z-index: -1;}#sk-container-id-24 div.sk-parallel-item {display: flex;flex-direction: column;z-index: 1;position: relative;background-color: white;}#sk-container-id-24 div.sk-parallel-item:first-child::after {align-self: flex-end;width: 50%;}#sk-container-id-24 div.sk-parallel-item:last-child::after {align-self: flex-start;width: 50%;}#sk-container-id-24 div.sk-parallel-item:only-child::after {width: 0;}#sk-container-id-24 div.sk-dashed-wrapped {border: 1px dashed gray;margin: 0 0.4em 0.5em 0.4em;box-sizing: border-box;padding-bottom: 0.4em;background-color: white;}#sk-container-id-24 div.sk-label label {font-family: monospace;font-weight: bold;display: inline-block;line-height: 1.2em;}#sk-container-id-24 div.sk-label-container {text-align: center;}#sk-container-id-24 div.sk-container {/* jupyter's `normalize.less` sets `[hidden] { display: none; }` but bootstrap.min.css set `[hidden] { display: none !important; }` so we also need the `!important` here to be able to override the default hidden behavior on the sphinx rendered scikit-learn.org. See: https://github.com/scikit-learn/scikit-learn/issues/21755 */display: inline-block !important;position: relative;}#sk-container-id-24 div.sk-text-repr-fallback {display: none;}</style><div id=\"sk-container-id-24\" class=\"sk-top-container\"><div class=\"sk-text-repr-fallback\"><pre>CountVectorizer()</pre><b>In a Jupyter environment, please rerun this cell to show the HTML representation or trust the notebook. <br />On GitHub, the HTML representation is unable to render, please try loading this page with nbviewer.org.</b></div><div class=\"sk-container\" hidden><div class=\"sk-item\"><div class=\"sk-estimator sk-toggleable\"><input class=\"sk-toggleable__control sk-hidden--visually\" id=\"sk-estimator-id-24\" type=\"checkbox\" checked><label for=\"sk-estimator-id-24\" class=\"sk-toggleable__label sk-toggleable__label-arrow\">CountVectorizer</label><div class=\"sk-toggleable__content\"><pre>CountVectorizer()</pre></div></div></div></div></div>"
      ],
      "text/plain": [
       "CountVectorizer()"
      ]
     },
     "execution_count": 235,
     "metadata": {},
     "output_type": "execute_result"
    }
   ],
   "source": [
    "# Khởi tạo CountVectorizer và khớp nó với tập train\n",
    "# Chuyển đổi dữ liệu văn bản thành một ma trận token counts.\n",
    "vect = CountVectorizer().fit(X_train)\n",
    "vect"
   ]
  },
  {
   "cell_type": "code",
   "execution_count": 236,
   "id": "a72fc043",
   "metadata": {},
   "outputs": [
    {
     "data": {
      "text/plain": [
       "array(['00', 'chopped', 'eventually', 'investing', 'pathologist', 'shore',\n",
       "       'utf8'], dtype=object)"
      ]
     },
     "execution_count": 236,
     "metadata": {},
     "output_type": "execute_result"
    }
   ],
   "source": [
    "# lấy một số từ vựng\n",
    "vect.get_feature_names_out()[::2000]\n"
   ]
  },
  {
   "cell_type": "code",
   "execution_count": 237,
   "id": "9165c022",
   "metadata": {},
   "outputs": [
    {
     "data": {
      "text/plain": [
       "12716"
      ]
     },
     "execution_count": 237,
     "metadata": {},
     "output_type": "execute_result"
    }
   ],
   "source": [
    "len(vect.get_feature_names_out())\n"
   ]
  },
  {
   "cell_type": "markdown",
   "id": "9e571ed4",
   "metadata": {},
   "source": [
    "Ta đang làm việc với 12716 features.\n"
   ]
  },
  {
   "cell_type": "markdown",
   "id": "78789583",
   "metadata": {},
   "source": [
    "Tiếp theo, ta chuyển đổi các tài liệu trong X_train thành document term matrix, ma trận này cung cấp cho ta biểu diễn Bags-of-words của X_train. Kết quả được lưu trữ trong một ma trận thưa thớt SciPy, trong đó mỗi hàng tương ứng với một document và mỗi cột là một từ trong từ vựng đào tạo."
   ]
  },
  {
   "cell_type": "code",
   "execution_count": 238,
   "id": "3b40d8a3",
   "metadata": {},
   "outputs": [
    {
     "data": {
      "text/plain": [
       "<13696x12716 sparse matrix of type '<class 'numpy.int64'>'\n",
       "\twith 406688 stored elements in Compressed Sparse Row format>"
      ]
     },
     "execution_count": 238,
     "metadata": {},
     "output_type": "execute_result"
    }
   ],
   "source": [
    "X_train_vectorized = vect.transform(X_train)\n",
    "X_train_vectorized"
   ]
  },
  {
   "cell_type": "markdown",
   "id": "3be0fd47",
   "metadata": {},
   "source": [
    "13696x12716 ma trận thưa thớt loại '<class 'numpy.int64'>'với 406688 phần tử được lưu trữ ở định dạng Compressed Sparse Row"
   ]
  },
  {
   "cell_type": "code",
   "execution_count": 239,
   "id": "a44fd2d8",
   "metadata": {},
   "outputs": [
    {
     "data": {
      "text/plain": [
       "array([[0, 0, 0, ..., 0, 0, 0],\n",
       "       [0, 0, 0, ..., 0, 0, 0],\n",
       "       [0, 0, 0, ..., 0, 0, 0],\n",
       "       ...,\n",
       "       [0, 0, 0, ..., 0, 0, 0],\n",
       "       [0, 0, 0, ..., 0, 0, 0],\n",
       "       [0, 0, 0, ..., 0, 0, 0]], dtype=int64)"
      ]
     },
     "execution_count": 239,
     "metadata": {},
     "output_type": "execute_result"
    }
   ],
   "source": [
    "X_train_vectorized.toarray()\n"
   ]
  },
  {
   "cell_type": "markdown",
   "id": "d413a43b",
   "metadata": {},
   "source": [
    "Các mục trong ma trận này là số lần mỗi từ xuất hiện trong mỗi tài liệu. Vì số lượng từ trong từ vựng lớn hơn rất nhiều so với số lượng từ có thể xuất hiện trong một văn bản nên hầu hết các mục của ma trận này đều bằng không."
   ]
  },
  {
   "cell_type": "markdown",
   "id": "2d0436eb",
   "metadata": {},
   "source": [
    "# Thống kê"
   ]
  },
  {
   "cell_type": "markdown",
   "id": "4db04c90",
   "metadata": {},
   "source": [
    "## Logistic Regression\n",
    "Ta sẽ huấn luyện bộ phân loại Hồi quy logistic dựa trên ma trận đặc trưng X_train_vectorized này, vì nó hoạt động tốt đối với dữ liệu thưa thớt nhiều chiều."
   ]
  },
  {
   "cell_type": "code",
   "execution_count": 240,
   "id": "5cdcae04",
   "metadata": {},
   "outputs": [
    {
     "name": "stderr",
     "output_type": "stream",
     "text": [
      "C:\\Users\\Admin\\anaconda3\\lib\\site-packages\\sklearn\\linear_model\\_logistic.py:458: ConvergenceWarning: lbfgs failed to converge (status=1):\n",
      "STOP: TOTAL NO. of ITERATIONS REACHED LIMIT.\n",
      "\n",
      "Increase the number of iterations (max_iter) or scale the data as shown in:\n",
      "    https://scikit-learn.org/stable/modules/preprocessing.html\n",
      "Please also refer to the documentation for alternative solver options:\n",
      "    https://scikit-learn.org/stable/modules/linear_model.html#logistic-regression\n",
      "  n_iter_i = _check_optimize_result(\n"
     ]
    },
    {
     "data": {
      "text/html": [
       "<style>#sk-container-id-25 {color: black;background-color: white;}#sk-container-id-25 pre{padding: 0;}#sk-container-id-25 div.sk-toggleable {background-color: white;}#sk-container-id-25 label.sk-toggleable__label {cursor: pointer;display: block;width: 100%;margin-bottom: 0;padding: 0.3em;box-sizing: border-box;text-align: center;}#sk-container-id-25 label.sk-toggleable__label-arrow:before {content: \"▸\";float: left;margin-right: 0.25em;color: #696969;}#sk-container-id-25 label.sk-toggleable__label-arrow:hover:before {color: black;}#sk-container-id-25 div.sk-estimator:hover label.sk-toggleable__label-arrow:before {color: black;}#sk-container-id-25 div.sk-toggleable__content {max-height: 0;max-width: 0;overflow: hidden;text-align: left;background-color: #f0f8ff;}#sk-container-id-25 div.sk-toggleable__content pre {margin: 0.2em;color: black;border-radius: 0.25em;background-color: #f0f8ff;}#sk-container-id-25 input.sk-toggleable__control:checked~div.sk-toggleable__content {max-height: 200px;max-width: 100%;overflow: auto;}#sk-container-id-25 input.sk-toggleable__control:checked~label.sk-toggleable__label-arrow:before {content: \"▾\";}#sk-container-id-25 div.sk-estimator input.sk-toggleable__control:checked~label.sk-toggleable__label {background-color: #d4ebff;}#sk-container-id-25 div.sk-label input.sk-toggleable__control:checked~label.sk-toggleable__label {background-color: #d4ebff;}#sk-container-id-25 input.sk-hidden--visually {border: 0;clip: rect(1px 1px 1px 1px);clip: rect(1px, 1px, 1px, 1px);height: 1px;margin: -1px;overflow: hidden;padding: 0;position: absolute;width: 1px;}#sk-container-id-25 div.sk-estimator {font-family: monospace;background-color: #f0f8ff;border: 1px dotted black;border-radius: 0.25em;box-sizing: border-box;margin-bottom: 0.5em;}#sk-container-id-25 div.sk-estimator:hover {background-color: #d4ebff;}#sk-container-id-25 div.sk-parallel-item::after {content: \"\";width: 100%;border-bottom: 1px solid gray;flex-grow: 1;}#sk-container-id-25 div.sk-label:hover label.sk-toggleable__label {background-color: #d4ebff;}#sk-container-id-25 div.sk-serial::before {content: \"\";position: absolute;border-left: 1px solid gray;box-sizing: border-box;top: 0;bottom: 0;left: 50%;z-index: 0;}#sk-container-id-25 div.sk-serial {display: flex;flex-direction: column;align-items: center;background-color: white;padding-right: 0.2em;padding-left: 0.2em;position: relative;}#sk-container-id-25 div.sk-item {position: relative;z-index: 1;}#sk-container-id-25 div.sk-parallel {display: flex;align-items: stretch;justify-content: center;background-color: white;position: relative;}#sk-container-id-25 div.sk-item::before, #sk-container-id-25 div.sk-parallel-item::before {content: \"\";position: absolute;border-left: 1px solid gray;box-sizing: border-box;top: 0;bottom: 0;left: 50%;z-index: -1;}#sk-container-id-25 div.sk-parallel-item {display: flex;flex-direction: column;z-index: 1;position: relative;background-color: white;}#sk-container-id-25 div.sk-parallel-item:first-child::after {align-self: flex-end;width: 50%;}#sk-container-id-25 div.sk-parallel-item:last-child::after {align-self: flex-start;width: 50%;}#sk-container-id-25 div.sk-parallel-item:only-child::after {width: 0;}#sk-container-id-25 div.sk-dashed-wrapped {border: 1px dashed gray;margin: 0 0.4em 0.5em 0.4em;box-sizing: border-box;padding-bottom: 0.4em;background-color: white;}#sk-container-id-25 div.sk-label label {font-family: monospace;font-weight: bold;display: inline-block;line-height: 1.2em;}#sk-container-id-25 div.sk-label-container {text-align: center;}#sk-container-id-25 div.sk-container {/* jupyter's `normalize.less` sets `[hidden] { display: none; }` but bootstrap.min.css set `[hidden] { display: none !important; }` so we also need the `!important` here to be able to override the default hidden behavior on the sphinx rendered scikit-learn.org. See: https://github.com/scikit-learn/scikit-learn/issues/21755 */display: inline-block !important;position: relative;}#sk-container-id-25 div.sk-text-repr-fallback {display: none;}</style><div id=\"sk-container-id-25\" class=\"sk-top-container\"><div class=\"sk-text-repr-fallback\"><pre>LogisticRegression()</pre><b>In a Jupyter environment, please rerun this cell to show the HTML representation or trust the notebook. <br />On GitHub, the HTML representation is unable to render, please try loading this page with nbviewer.org.</b></div><div class=\"sk-container\" hidden><div class=\"sk-item\"><div class=\"sk-estimator sk-toggleable\"><input class=\"sk-toggleable__control sk-hidden--visually\" id=\"sk-estimator-id-25\" type=\"checkbox\" checked><label for=\"sk-estimator-id-25\" class=\"sk-toggleable__label sk-toggleable__label-arrow\">LogisticRegression</label><div class=\"sk-toggleable__content\"><pre>LogisticRegression()</pre></div></div></div></div></div>"
      ],
      "text/plain": [
       "LogisticRegression()"
      ]
     },
     "execution_count": 240,
     "metadata": {},
     "output_type": "execute_result"
    }
   ],
   "source": [
    "model = LogisticRegression()\n",
    "model.fit(X_train_vectorized, y_train)"
   ]
  },
  {
   "cell_type": "markdown",
   "id": "6ffcbd41",
   "metadata": {},
   "source": [
    "Tiếp theo, ta sẽ đưa ra dự đoán bằng cách sử dụng X_test và AUC\n",
    "- AUC biểu diễn mức độ phân loại của mô hình\n",
    "- Chỉ số AUC càng cao thì mô hình càng chính xác.\n",
    "- AUC là chỉ số được tính toán dựa trên đường cong ROC "
   ]
  },
  {
   "cell_type": "code",
   "execution_count": 241,
   "id": "5f4b4170",
   "metadata": {},
   "outputs": [
    {
     "name": "stdout",
     "output_type": "stream",
     "text": [
      "AUC:  0.8090674196922512\n"
     ]
    }
   ],
   "source": [
    "import sklearn.metrics\n",
    "predictions = model.predict(vect.transform(X_test))\n",
    "print('AUC: ', roc_auc_score(y_test, predictions))\n"
   ]
  },
  {
   "cell_type": "markdown",
   "id": "da61a6e2",
   "metadata": {},
   "source": [
    "Để hiểu rõ hơn cách mô hình đưa ra dự đoán, ta có thể sử dụng coefficients cho từng tính năng (một từ) để xác định trọng số của nó về mặt tích cực và tiêu cực."
   ]
  },
  {
   "cell_type": "code",
   "execution_count": 242,
   "id": "2b2421d1",
   "metadata": {},
   "outputs": [
    {
     "name": "stdout",
     "output_type": "stream",
     "text": [
      "Đánh giá tiêu cực: \n",
      "['stale' 'poor' 'flimsy' 'terrible' 'disappointed' 'returned'\n",
      " 'frustrating' 'cheaply' 'horrible' 'poorly']\n",
      "\n",
      "Đánh giá tích cực: \n",
      "['loves' 'delicious' 'excellent' 'perfect' 'love' 'breakfast' 'done'\n",
      " 'fast' 'great' 'us']\n",
      "\n"
     ]
    }
   ],
   "source": [
    "feature_names = np.array(vect.get_feature_names_out())\n",
    "sorted_coef_index = model.coef_[0].argsort()\n",
    "print('Đánh giá tiêu cực: \\n{}\\n'.format(feature_names[sorted_coef_index[:10]]))\n",
    "print('Đánh giá tích cực: \\n{}\\n'.format(feature_names[sorted_coef_index[:-11:-1]]))"
   ]
  },
  {
   "cell_type": "markdown",
   "id": "bca6f5b3",
   "metadata": {},
   "source": [
    "## Tf–idf term weighting\n",
    "Trong kho văn bản lớn, một số từ sẽ xuất hiện rất thường xuyên nhưng sẽ mang rất ít thông tin có ý nghĩa về nội dung thực tế của tài liệu (chẳng hạn như “the”, “a” và “is”). Nếu chúng ta cung cấp dữ liệu đếm trực tiếp cho một bộ phân loại thì các thuật ngữ rất thường xuyên đó sẽ che khuất tần suất của các thuật ngữ hiếm hơn nhưng có ích hơn. Tf-idf cho phép chúng ta đánh giá các thuật ngữ dựa trên mức độ quan trọng của chúng đối với dữ liệu.\n",
    "\n",
    "Vì vậy, chúng ta sẽ khởi tạo tf–idf vectorizer và khớp nó với dữ liệu đào tạo. Ta chỉ định min_df = 5, điều này sẽ xóa bất kỳ từ nào khỏi từ vựng khi xuất hiện ít hơn năm lần."
   ]
  },
  {
   "cell_type": "code",
   "execution_count": 243,
   "id": "6b995c4a",
   "metadata": {},
   "outputs": [
    {
     "data": {
      "text/plain": [
       "4462"
      ]
     },
     "execution_count": 243,
     "metadata": {},
     "output_type": "execute_result"
    }
   ],
   "source": [
    "vect = TfidfVectorizer(min_df = 5).fit(X_train)\n",
    "len(vect.get_feature_names_out())"
   ]
  },
  {
   "cell_type": "code",
   "execution_count": 244,
   "id": "aa438af9",
   "metadata": {},
   "outputs": [
    {
     "name": "stdout",
     "output_type": "stream",
     "text": [
      "AUC:  0.7064974383894893\n"
     ]
    }
   ],
   "source": [
    "X_train_vectorized = vect.transform(X_train)\n",
    "model = LogisticRegression()\n",
    "model.fit(X_train_vectorized, y_train)\n",
    "predictions = model.predict(vect.transform(X_test))\n",
    "print('AUC: ', roc_auc_score(y_test, predictions))"
   ]
  },
  {
   "cell_type": "markdown",
   "id": "60f9d604",
   "metadata": {},
   "source": [
    "Mặc dù có thể giảm số lượng features từ 12716 xuống chỉ còn 4462, nhưng AUC của chúng ta đã giảm hơn 10%."
   ]
  },
  {
   "cell_type": "markdown",
   "id": "82db1bd9",
   "metadata": {},
   "source": [
    "Danh sách các features có tf-idf nhỏ nhất thường xuất hiện trong tất cả các bài đánh giá hoặc hiếm khi xuất hiện trong các bài đánh giá rất dài và danh sách các tính năng có tf–idf lớn nhất chứa các từ đã xuất hiện thường xuyên trong một bài đánh giá, nhưng không xuất hiện phổ biến trên tất cả các bài đánh giá."
   ]
  },
  {
   "cell_type": "code",
   "execution_count": 245,
   "id": "b0e3f17c",
   "metadata": {},
   "outputs": [
    {
     "name": "stdout",
     "output_type": "stream",
     "text": [
      "Smallest Tfidf: \n",
      "['physically' 'capped' 'bedrooms' 'informed' 'anti' 'buggy' 'port'\n",
      " 'electricians' 'disclaimer' 'detected']\n",
      "\n",
      "Largest Tfidf: \n",
      "['lo' 'nice' 'thanks' 'loved' 'terrible' 'so' 'color' 'meh' 'excellent'\n",
      " 'mi']\n",
      "\n"
     ]
    }
   ],
   "source": [
    "feature_names = np.array(vect.get_feature_names_out())\n",
    "sorted_tfidf_index = X_train_vectorized.max(0).toarray()[0].argsort()\n",
    "print('Smallest Tfidf: \\n{}\\n'.format(feature_names[sorted_tfidf_index[:10]]))\n",
    "print('Largest Tfidf: \\n{}\\n'.format(feature_names[sorted_tfidf_index[:-11:-1]]))"
   ]
  },
  {
   "cell_type": "markdown",
   "id": "ccddbc8b",
   "metadata": {},
   "source": [
    "Test model"
   ]
  },
  {
   "cell_type": "code",
   "execution_count": 246,
   "id": "f878b4a3",
   "metadata": {},
   "outputs": [
    {
     "name": "stdout",
     "output_type": "stream",
     "text": [
      "[0 0]\n"
     ]
    }
   ],
   "source": [
    "print(model.predict(vect.transform(['The candy is not good, I will never buy them again','The candy is not bad, I will buy them again'])))"
   ]
  },
  {
   "cell_type": "markdown",
   "id": "106dff02",
   "metadata": {},
   "source": [
    "Mô hình phân loại đúng câu đầu, phân loại sai câu thứ 2"
   ]
  },
  {
   "cell_type": "code",
   "execution_count": 247,
   "id": "ebcff1ab",
   "metadata": {},
   "outputs": [
    {
     "name": "stdout",
     "output_type": "stream",
     "text": [
      "[0 1]\n"
     ]
    }
   ],
   "source": [
    "print(model.predict(vect.transform(['The candy is not good, I will never buy them again','The candy is good, I will buy them again'])))"
   ]
  },
  {
   "cell_type": "markdown",
   "id": "318dfe88",
   "metadata": {},
   "source": [
    "Thay not bad = good thì mô hình phân loại đúng"
   ]
  },
  {
   "cell_type": "markdown",
   "id": "c4538a90",
   "metadata": {},
   "source": [
    "## n-gram\n",
    "- Một cách để khắc phục sự phân loại sai này là thêm n-grams để làm mịn mô hình.\n",
    "- N-gram được là tần suất xuất hiện của n kí tự (từ) liên tiếp xuất hiện trong dữ liệu.\n",
    "- Chúng ta refit lại tập huấn luyện chỉ định tần suất tài liệu tối thiểu là 5 và trích xuất 1-grams và 2-grams.\n",
    "- Với n = 1 và tính trên kí tự, ta có thông tin về tần suất xuất hiện nhiều nhất của các chữ cái. Điều này ứng dụng để làm keyboard : các phím hay xuất hiện nhất sẽ ở những vị trí dễ sử dụng nhất.\n",
    "- Với n = 2, ta có khái niệm bigram. Ví dụ với các chữ cái tiếng Anh, ‘th’,’he’,’in’,’an’,’er’ là các cặp kí tự hay xuất hiện nhất. Ngoài ra, ta có thể biết thêm rằng sau kí tự ‘q’ thì phần lớn đều là kí tự ‘u’."
   ]
  },
  {
   "cell_type": "code",
   "execution_count": 248,
   "id": "4e03f36c",
   "metadata": {},
   "outputs": [
    {
     "data": {
      "text/plain": [
       "20611"
      ]
     },
     "execution_count": 248,
     "metadata": {},
     "output_type": "execute_result"
    }
   ],
   "source": [
    "vect = CountVectorizer(min_df = 5, ngram_range = (1,2)).fit(X_train)\n",
    "X_train_vectorized = vect.transform(X_train)\n",
    "len(vect.get_feature_names_out())"
   ]
  },
  {
   "cell_type": "markdown",
   "id": "142f2035",
   "metadata": {},
   "source": [
    "Ta đã có nhiều features hơn để làm việc và AUC của đã được cải thiện"
   ]
  },
  {
   "cell_type": "code",
   "execution_count": 249,
   "id": "2aee9a53",
   "metadata": {},
   "outputs": [
    {
     "name": "stderr",
     "output_type": "stream",
     "text": [
      "C:\\Users\\Admin\\anaconda3\\lib\\site-packages\\sklearn\\linear_model\\_logistic.py:458: ConvergenceWarning: lbfgs failed to converge (status=1):\n",
      "STOP: TOTAL NO. of ITERATIONS REACHED LIMIT.\n",
      "\n",
      "Increase the number of iterations (max_iter) or scale the data as shown in:\n",
      "    https://scikit-learn.org/stable/modules/preprocessing.html\n",
      "Please also refer to the documentation for alternative solver options:\n",
      "    https://scikit-learn.org/stable/modules/linear_model.html#logistic-regression\n",
      "  n_iter_i = _check_optimize_result(\n"
     ]
    },
    {
     "name": "stdout",
     "output_type": "stream",
     "text": [
      "AUC:  0.8370906830862592\n"
     ]
    }
   ],
   "source": [
    "model = LogisticRegression()\n",
    "model.fit(X_train_vectorized, y_train)\n",
    "predictions = model.predict(vect.transform(X_test))\n",
    "print('AUC: ', roc_auc_score(y_test, predictions))"
   ]
  },
  {
   "cell_type": "markdown",
   "id": "b0f35e4a",
   "metadata": {},
   "source": [
    "Sử dụng coefficients để kiểm tra từng features, chúng ta có thể thấy:\n",
    "\n"
   ]
  },
  {
   "cell_type": "code",
   "execution_count": 250,
   "id": "69a4d78f",
   "metadata": {},
   "outputs": [
    {
     "name": "stdout",
     "output_type": "stream",
     "text": [
      "Đánh giá tiêu cực: \n",
      "['flimsy' 'disappointed' 'terrible' 'stale' 'to good' 'returned' 'didn'\n",
      " 'not good' 'poor' 'missing']\n",
      "\n",
      "Đánh giá tích cực: \n",
      "['loves' 'perfect' 'great' 'delicious' 'excellent' 'not bad' 'love'\n",
      " 'awesome' 'loved' 'better than']\n",
      "\n"
     ]
    }
   ],
   "source": [
    "feature_names = np.array(vect.get_feature_names_out())\n",
    "sorted_coef_index = model.coef_[0].argsort()\n",
    "print('Đánh giá tiêu cực: \\n{}\\n'.format(feature_names[sorted_coef_index][:10]))\n",
    "print('Đánh giá tích cực: \\n{}\\n'.format(feature_names[sorted_coef_index][:-11:-1]))"
   ]
  },
  {
   "cell_type": "markdown",
   "id": "9ec38e1e",
   "metadata": {},
   "source": [
    "Test model"
   ]
  },
  {
   "cell_type": "code",
   "execution_count": 251,
   "id": "b3ca4b82",
   "metadata": {},
   "outputs": [
    {
     "name": "stdout",
     "output_type": "stream",
     "text": [
      "[0 1]\n"
     ]
    }
   ],
   "source": [
    "print(model.predict(vect.transform(['The candy is not good, I would never buy them again','The candy is not bad, I will buy them again'])))"
   ]
  },
  {
   "cell_type": "markdown",
   "id": "8bb5be9f",
   "metadata": {},
   "source": [
    "Mô hình đã đánh giá đúng đánh giá thứ nhất là tiêu cực, đánh giá thứ hai là tích cực"
   ]
  },
  {
   "cell_type": "markdown",
   "id": "498d9805",
   "metadata": {},
   "source": [
    "## DecisionTreeClassifier"
   ]
  },
  {
   "cell_type": "code",
   "execution_count": 252,
   "id": "b98f67b9",
   "metadata": {},
   "outputs": [
    {
     "data": {
      "text/html": [
       "<style>#sk-container-id-26 {color: black;background-color: white;}#sk-container-id-26 pre{padding: 0;}#sk-container-id-26 div.sk-toggleable {background-color: white;}#sk-container-id-26 label.sk-toggleable__label {cursor: pointer;display: block;width: 100%;margin-bottom: 0;padding: 0.3em;box-sizing: border-box;text-align: center;}#sk-container-id-26 label.sk-toggleable__label-arrow:before {content: \"▸\";float: left;margin-right: 0.25em;color: #696969;}#sk-container-id-26 label.sk-toggleable__label-arrow:hover:before {color: black;}#sk-container-id-26 div.sk-estimator:hover label.sk-toggleable__label-arrow:before {color: black;}#sk-container-id-26 div.sk-toggleable__content {max-height: 0;max-width: 0;overflow: hidden;text-align: left;background-color: #f0f8ff;}#sk-container-id-26 div.sk-toggleable__content pre {margin: 0.2em;color: black;border-radius: 0.25em;background-color: #f0f8ff;}#sk-container-id-26 input.sk-toggleable__control:checked~div.sk-toggleable__content {max-height: 200px;max-width: 100%;overflow: auto;}#sk-container-id-26 input.sk-toggleable__control:checked~label.sk-toggleable__label-arrow:before {content: \"▾\";}#sk-container-id-26 div.sk-estimator input.sk-toggleable__control:checked~label.sk-toggleable__label {background-color: #d4ebff;}#sk-container-id-26 div.sk-label input.sk-toggleable__control:checked~label.sk-toggleable__label {background-color: #d4ebff;}#sk-container-id-26 input.sk-hidden--visually {border: 0;clip: rect(1px 1px 1px 1px);clip: rect(1px, 1px, 1px, 1px);height: 1px;margin: -1px;overflow: hidden;padding: 0;position: absolute;width: 1px;}#sk-container-id-26 div.sk-estimator {font-family: monospace;background-color: #f0f8ff;border: 1px dotted black;border-radius: 0.25em;box-sizing: border-box;margin-bottom: 0.5em;}#sk-container-id-26 div.sk-estimator:hover {background-color: #d4ebff;}#sk-container-id-26 div.sk-parallel-item::after {content: \"\";width: 100%;border-bottom: 1px solid gray;flex-grow: 1;}#sk-container-id-26 div.sk-label:hover label.sk-toggleable__label {background-color: #d4ebff;}#sk-container-id-26 div.sk-serial::before {content: \"\";position: absolute;border-left: 1px solid gray;box-sizing: border-box;top: 0;bottom: 0;left: 50%;z-index: 0;}#sk-container-id-26 div.sk-serial {display: flex;flex-direction: column;align-items: center;background-color: white;padding-right: 0.2em;padding-left: 0.2em;position: relative;}#sk-container-id-26 div.sk-item {position: relative;z-index: 1;}#sk-container-id-26 div.sk-parallel {display: flex;align-items: stretch;justify-content: center;background-color: white;position: relative;}#sk-container-id-26 div.sk-item::before, #sk-container-id-26 div.sk-parallel-item::before {content: \"\";position: absolute;border-left: 1px solid gray;box-sizing: border-box;top: 0;bottom: 0;left: 50%;z-index: -1;}#sk-container-id-26 div.sk-parallel-item {display: flex;flex-direction: column;z-index: 1;position: relative;background-color: white;}#sk-container-id-26 div.sk-parallel-item:first-child::after {align-self: flex-end;width: 50%;}#sk-container-id-26 div.sk-parallel-item:last-child::after {align-self: flex-start;width: 50%;}#sk-container-id-26 div.sk-parallel-item:only-child::after {width: 0;}#sk-container-id-26 div.sk-dashed-wrapped {border: 1px dashed gray;margin: 0 0.4em 0.5em 0.4em;box-sizing: border-box;padding-bottom: 0.4em;background-color: white;}#sk-container-id-26 div.sk-label label {font-family: monospace;font-weight: bold;display: inline-block;line-height: 1.2em;}#sk-container-id-26 div.sk-label-container {text-align: center;}#sk-container-id-26 div.sk-container {/* jupyter's `normalize.less` sets `[hidden] { display: none; }` but bootstrap.min.css set `[hidden] { display: none !important; }` so we also need the `!important` here to be able to override the default hidden behavior on the sphinx rendered scikit-learn.org. See: https://github.com/scikit-learn/scikit-learn/issues/21755 */display: inline-block !important;position: relative;}#sk-container-id-26 div.sk-text-repr-fallback {display: none;}</style><div id=\"sk-container-id-26\" class=\"sk-top-container\"><div class=\"sk-text-repr-fallback\"><pre>DecisionTreeClassifier(max_depth=3)</pre><b>In a Jupyter environment, please rerun this cell to show the HTML representation or trust the notebook. <br />On GitHub, the HTML representation is unable to render, please try loading this page with nbviewer.org.</b></div><div class=\"sk-container\" hidden><div class=\"sk-item\"><div class=\"sk-estimator sk-toggleable\"><input class=\"sk-toggleable__control sk-hidden--visually\" id=\"sk-estimator-id-26\" type=\"checkbox\" checked><label for=\"sk-estimator-id-26\" class=\"sk-toggleable__label sk-toggleable__label-arrow\">DecisionTreeClassifier</label><div class=\"sk-toggleable__content\"><pre>DecisionTreeClassifier(max_depth=3)</pre></div></div></div></div></div>"
      ],
      "text/plain": [
       "DecisionTreeClassifier(max_depth=3)"
      ]
     },
     "execution_count": 252,
     "metadata": {},
     "output_type": "execute_result"
    }
   ],
   "source": [
    "from sklearn.tree import DecisionTreeClassifier\n",
    "classifier = DecisionTreeClassifier(max_depth=3)\n",
    "classifier.fit(X_train_vectorized, y_train)"
   ]
  },
  {
   "cell_type": "code",
   "execution_count": 284,
   "id": "8825fa9b",
   "metadata": {},
   "outputs": [
    {
     "data": {
      "text/plain": [
       "0.845356308411215"
      ]
     },
     "execution_count": 284,
     "metadata": {},
     "output_type": "execute_result"
    }
   ],
   "source": [
    "classifier.score(X_train_vectorized, y_train)"
   ]
  },
  {
   "cell_type": "code",
   "execution_count": 290,
   "id": "0253a7d2",
   "metadata": {},
   "outputs": [],
   "source": [
    "#predictionDT = classifier.predict(vect.transform(X_test))\n",
    "#print('AUC: ', roc_auc_score(y_test, predictionDT))"
   ]
  },
  {
   "cell_type": "code",
   "execution_count": 254,
   "id": "7cfa4491",
   "metadata": {},
   "outputs": [
    {
     "data": {
      "image/png": "[encoded data removed]",
      "text/plain": [
       "<Figure size 1440x1440 with 1 Axes>"
      ]
     },
     "metadata": {
      "needs_background": "light"
     },
     "output_type": "display_data"
    }
   ],
   "source": [
    "from sklearn.tree import plot_tree\n",
    "from sklearn import datasets\n",
    "from sklearn import tree\n",
    "fig = plt.figure(figsize=(20,20))\n",
    "_ = tree.plot_tree(classifier, filled=True)"
   ]
  },
  {
   "cell_type": "markdown",
   "id": "7d356681",
   "metadata": {},
   "source": [
    "## Naive Bayes"
   ]
  },
  {
   "cell_type": "code",
   "execution_count": 255,
   "id": "7cc94731",
   "metadata": {},
   "outputs": [
    {
     "data": {
      "text/html": [
       "<style>#sk-container-id-27 {color: black;background-color: white;}#sk-container-id-27 pre{padding: 0;}#sk-container-id-27 div.sk-toggleable {background-color: white;}#sk-container-id-27 label.sk-toggleable__label {cursor: pointer;display: block;width: 100%;margin-bottom: 0;padding: 0.3em;box-sizing: border-box;text-align: center;}#sk-container-id-27 label.sk-toggleable__label-arrow:before {content: \"▸\";float: left;margin-right: 0.25em;color: #696969;}#sk-container-id-27 label.sk-toggleable__label-arrow:hover:before {color: black;}#sk-container-id-27 div.sk-estimator:hover label.sk-toggleable__label-arrow:before {color: black;}#sk-container-id-27 div.sk-toggleable__content {max-height: 0;max-width: 0;overflow: hidden;text-align: left;background-color: #f0f8ff;}#sk-container-id-27 div.sk-toggleable__content pre {margin: 0.2em;color: black;border-radius: 0.25em;background-color: #f0f8ff;}#sk-container-id-27 input.sk-toggleable__control:checked~div.sk-toggleable__content {max-height: 200px;max-width: 100%;overflow: auto;}#sk-container-id-27 input.sk-toggleable__control:checked~label.sk-toggleable__label-arrow:before {content: \"▾\";}#sk-container-id-27 div.sk-estimator input.sk-toggleable__control:checked~label.sk-toggleable__label {background-color: #d4ebff;}#sk-container-id-27 div.sk-label input.sk-toggleable__control:checked~label.sk-toggleable__label {background-color: #d4ebff;}#sk-container-id-27 input.sk-hidden--visually {border: 0;clip: rect(1px 1px 1px 1px);clip: rect(1px, 1px, 1px, 1px);height: 1px;margin: -1px;overflow: hidden;padding: 0;position: absolute;width: 1px;}#sk-container-id-27 div.sk-estimator {font-family: monospace;background-color: #f0f8ff;border: 1px dotted black;border-radius: 0.25em;box-sizing: border-box;margin-bottom: 0.5em;}#sk-container-id-27 div.sk-estimator:hover {background-color: #d4ebff;}#sk-container-id-27 div.sk-parallel-item::after {content: \"\";width: 100%;border-bottom: 1px solid gray;flex-grow: 1;}#sk-container-id-27 div.sk-label:hover label.sk-toggleable__label {background-color: #d4ebff;}#sk-container-id-27 div.sk-serial::before {content: \"\";position: absolute;border-left: 1px solid gray;box-sizing: border-box;top: 0;bottom: 0;left: 50%;z-index: 0;}#sk-container-id-27 div.sk-serial {display: flex;flex-direction: column;align-items: center;background-color: white;padding-right: 0.2em;padding-left: 0.2em;position: relative;}#sk-container-id-27 div.sk-item {position: relative;z-index: 1;}#sk-container-id-27 div.sk-parallel {display: flex;align-items: stretch;justify-content: center;background-color: white;position: relative;}#sk-container-id-27 div.sk-item::before, #sk-container-id-27 div.sk-parallel-item::before {content: \"\";position: absolute;border-left: 1px solid gray;box-sizing: border-box;top: 0;bottom: 0;left: 50%;z-index: -1;}#sk-container-id-27 div.sk-parallel-item {display: flex;flex-direction: column;z-index: 1;position: relative;background-color: white;}#sk-container-id-27 div.sk-parallel-item:first-child::after {align-self: flex-end;width: 50%;}#sk-container-id-27 div.sk-parallel-item:last-child::after {align-self: flex-start;width: 50%;}#sk-container-id-27 div.sk-parallel-item:only-child::after {width: 0;}#sk-container-id-27 div.sk-dashed-wrapped {border: 1px dashed gray;margin: 0 0.4em 0.5em 0.4em;box-sizing: border-box;padding-bottom: 0.4em;background-color: white;}#sk-container-id-27 div.sk-label label {font-family: monospace;font-weight: bold;display: inline-block;line-height: 1.2em;}#sk-container-id-27 div.sk-label-container {text-align: center;}#sk-container-id-27 div.sk-container {/* jupyter's `normalize.less` sets `[hidden] { display: none; }` but bootstrap.min.css set `[hidden] { display: none !important; }` so we also need the `!important` here to be able to override the default hidden behavior on the sphinx rendered scikit-learn.org. See: https://github.com/scikit-learn/scikit-learn/issues/21755 */display: inline-block !important;position: relative;}#sk-container-id-27 div.sk-text-repr-fallback {display: none;}</style><div id=\"sk-container-id-27\" class=\"sk-top-container\"><div class=\"sk-text-repr-fallback\"><pre>MultinomialNB()</pre><b>In a Jupyter environment, please rerun this cell to show the HTML representation or trust the notebook. <br />On GitHub, the HTML representation is unable to render, please try loading this page with nbviewer.org.</b></div><div class=\"sk-container\" hidden><div class=\"sk-item\"><div class=\"sk-estimator sk-toggleable\"><input class=\"sk-toggleable__control sk-hidden--visually\" id=\"sk-estimator-id-27\" type=\"checkbox\" checked><label for=\"sk-estimator-id-27\" class=\"sk-toggleable__label sk-toggleable__label-arrow\">MultinomialNB</label><div class=\"sk-toggleable__content\"><pre>MultinomialNB()</pre></div></div></div></div></div>"
      ],
      "text/plain": [
       "MultinomialNB()"
      ]
     },
     "execution_count": 255,
     "metadata": {},
     "output_type": "execute_result"
    }
   ],
   "source": [
    "from sklearn.naive_bayes import MultinomialNB\n",
    "NB = MultinomialNB()\n",
    "NB.fit(X_train_vectorized, y_train)"
   ]
  },
  {
   "cell_type": "code",
   "execution_count": 256,
   "id": "0de0f635",
   "metadata": {},
   "outputs": [
    {
     "data": {
      "text/plain": [
       "0.927570093457944"
      ]
     },
     "execution_count": 256,
     "metadata": {},
     "output_type": "execute_result"
    }
   ],
   "source": [
    "NB.score(X_train_vectorized, y_train)"
   ]
  },
  {
   "cell_type": "code",
   "execution_count": 286,
   "id": "e2b81762",
   "metadata": {},
   "outputs": [
    {
     "name": "stdout",
     "output_type": "stream",
     "text": [
      "AUC:  0.8449644130222855\n"
     ]
    }
   ],
   "source": [
    "#predictionNB = NB.predict(vect.transform(X_test))\n",
    "#print('AUC: ', roc_auc_score(y_test, predictionNB))"
   ]
  },
  {
   "cell_type": "markdown",
   "id": "0660f48f",
   "metadata": {},
   "source": [
    "## K-Nearest Neighbors"
   ]
  },
  {
   "cell_type": "code",
   "execution_count": 257,
   "id": "c88739cb",
   "metadata": {},
   "outputs": [
    {
     "data": {
      "text/html": [
       "<style>#sk-container-id-28 {color: black;background-color: white;}#sk-container-id-28 pre{padding: 0;}#sk-container-id-28 div.sk-toggleable {background-color: white;}#sk-container-id-28 label.sk-toggleable__label {cursor: pointer;display: block;width: 100%;margin-bottom: 0;padding: 0.3em;box-sizing: border-box;text-align: center;}#sk-container-id-28 label.sk-toggleable__label-arrow:before {content: \"▸\";float: left;margin-right: 0.25em;color: #696969;}#sk-container-id-28 label.sk-toggleable__label-arrow:hover:before {color: black;}#sk-container-id-28 div.sk-estimator:hover label.sk-toggleable__label-arrow:before {color: black;}#sk-container-id-28 div.sk-toggleable__content {max-height: 0;max-width: 0;overflow: hidden;text-align: left;background-color: #f0f8ff;}#sk-container-id-28 div.sk-toggleable__content pre {margin: 0.2em;color: black;border-radius: 0.25em;background-color: #f0f8ff;}#sk-container-id-28 input.sk-toggleable__control:checked~div.sk-toggleable__content {max-height: 200px;max-width: 100%;overflow: auto;}#sk-container-id-28 input.sk-toggleable__control:checked~label.sk-toggleable__label-arrow:before {content: \"▾\";}#sk-container-id-28 div.sk-estimator input.sk-toggleable__control:checked~label.sk-toggleable__label {background-color: #d4ebff;}#sk-container-id-28 div.sk-label input.sk-toggleable__control:checked~label.sk-toggleable__label {background-color: #d4ebff;}#sk-container-id-28 input.sk-hidden--visually {border: 0;clip: rect(1px 1px 1px 1px);clip: rect(1px, 1px, 1px, 1px);height: 1px;margin: -1px;overflow: hidden;padding: 0;position: absolute;width: 1px;}#sk-container-id-28 div.sk-estimator {font-family: monospace;background-color: #f0f8ff;border: 1px dotted black;border-radius: 0.25em;box-sizing: border-box;margin-bottom: 0.5em;}#sk-container-id-28 div.sk-estimator:hover {background-color: #d4ebff;}#sk-container-id-28 div.sk-parallel-item::after {content: \"\";width: 100%;border-bottom: 1px solid gray;flex-grow: 1;}#sk-container-id-28 div.sk-label:hover label.sk-toggleable__label {background-color: #d4ebff;}#sk-container-id-28 div.sk-serial::before {content: \"\";position: absolute;border-left: 1px solid gray;box-sizing: border-box;top: 0;bottom: 0;left: 50%;z-index: 0;}#sk-container-id-28 div.sk-serial {display: flex;flex-direction: column;align-items: center;background-color: white;padding-right: 0.2em;padding-left: 0.2em;position: relative;}#sk-container-id-28 div.sk-item {position: relative;z-index: 1;}#sk-container-id-28 div.sk-parallel {display: flex;align-items: stretch;justify-content: center;background-color: white;position: relative;}#sk-container-id-28 div.sk-item::before, #sk-container-id-28 div.sk-parallel-item::before {content: \"\";position: absolute;border-left: 1px solid gray;box-sizing: border-box;top: 0;bottom: 0;left: 50%;z-index: -1;}#sk-container-id-28 div.sk-parallel-item {display: flex;flex-direction: column;z-index: 1;position: relative;background-color: white;}#sk-container-id-28 div.sk-parallel-item:first-child::after {align-self: flex-end;width: 50%;}#sk-container-id-28 div.sk-parallel-item:last-child::after {align-self: flex-start;width: 50%;}#sk-container-id-28 div.sk-parallel-item:only-child::after {width: 0;}#sk-container-id-28 div.sk-dashed-wrapped {border: 1px dashed gray;margin: 0 0.4em 0.5em 0.4em;box-sizing: border-box;padding-bottom: 0.4em;background-color: white;}#sk-container-id-28 div.sk-label label {font-family: monospace;font-weight: bold;display: inline-block;line-height: 1.2em;}#sk-container-id-28 div.sk-label-container {text-align: center;}#sk-container-id-28 div.sk-container {/* jupyter's `normalize.less` sets `[hidden] { display: none; }` but bootstrap.min.css set `[hidden] { display: none !important; }` so we also need the `!important` here to be able to override the default hidden behavior on the sphinx rendered scikit-learn.org. See: https://github.com/scikit-learn/scikit-learn/issues/21755 */display: inline-block !important;position: relative;}#sk-container-id-28 div.sk-text-repr-fallback {display: none;}</style><div id=\"sk-container-id-28\" class=\"sk-top-container\"><div class=\"sk-text-repr-fallback\"><pre>KNeighborsRegressor(n_neighbors=3)</pre><b>In a Jupyter environment, please rerun this cell to show the HTML representation or trust the notebook. <br />On GitHub, the HTML representation is unable to render, please try loading this page with nbviewer.org.</b></div><div class=\"sk-container\" hidden><div class=\"sk-item\"><div class=\"sk-estimator sk-toggleable\"><input class=\"sk-toggleable__control sk-hidden--visually\" id=\"sk-estimator-id-28\" type=\"checkbox\" checked><label for=\"sk-estimator-id-28\" class=\"sk-toggleable__label sk-toggleable__label-arrow\">KNeighborsRegressor</label><div class=\"sk-toggleable__content\"><pre>KNeighborsRegressor(n_neighbors=3)</pre></div></div></div></div></div>"
      ],
      "text/plain": [
       "KNeighborsRegressor(n_neighbors=3)"
      ]
     },
     "execution_count": 257,
     "metadata": {},
     "output_type": "execute_result"
    }
   ],
   "source": [
    "from sklearn.neighbors import KNeighborsRegressor\n",
    "KNN = KNeighborsRegressor(n_neighbors=3)\n",
    "KNN.fit(X_train_vectorized, y_train)"
   ]
  },
  {
   "cell_type": "code",
   "execution_count": 258,
   "id": "1cd01d9a",
   "metadata": {},
   "outputs": [
    {
     "data": {
      "text/plain": [
       "0.6371957978308267"
      ]
     },
     "execution_count": 258,
     "metadata": {},
     "output_type": "execute_result"
    }
   ],
   "source": [
    "KNN.score(X_train_vectorized, y_train)"
   ]
  },
  {
   "cell_type": "code",
   "execution_count": 259,
   "id": "3b958901",
   "metadata": {},
   "outputs": [],
   "source": [
    "from sklearn.model_selection import GridSearchCV\n",
    "params = {'n_neighbors':[1,2,3,4,5,6,7,8,9,10]}\n",
    "KNN = KNeighborsRegressor()"
   ]
  },
  {
   "cell_type": "code",
   "execution_count": 260,
   "id": "fbd20a5d",
   "metadata": {},
   "outputs": [
    {
     "data": {
      "text/plain": [
       "{'n_neighbors': 2}"
      ]
     },
     "execution_count": 260,
     "metadata": {},
     "output_type": "execute_result"
    }
   ],
   "source": [
    "model = GridSearchCV(KNN, params, cv=5)\n",
    "model.fit(X_train_vectorized, y_train)\n",
    "model.best_params_"
   ]
  },
  {
   "cell_type": "code",
   "execution_count": 261,
   "id": "bc935c05",
   "metadata": {},
   "outputs": [
    {
     "data": {
      "text/html": [
       "<style>#sk-container-id-29 {color: black;background-color: white;}#sk-container-id-29 pre{padding: 0;}#sk-container-id-29 div.sk-toggleable {background-color: white;}#sk-container-id-29 label.sk-toggleable__label {cursor: pointer;display: block;width: 100%;margin-bottom: 0;padding: 0.3em;box-sizing: border-box;text-align: center;}#sk-container-id-29 label.sk-toggleable__label-arrow:before {content: \"▸\";float: left;margin-right: 0.25em;color: #696969;}#sk-container-id-29 label.sk-toggleable__label-arrow:hover:before {color: black;}#sk-container-id-29 div.sk-estimator:hover label.sk-toggleable__label-arrow:before {color: black;}#sk-container-id-29 div.sk-toggleable__content {max-height: 0;max-width: 0;overflow: hidden;text-align: left;background-color: #f0f8ff;}#sk-container-id-29 div.sk-toggleable__content pre {margin: 0.2em;color: black;border-radius: 0.25em;background-color: #f0f8ff;}#sk-container-id-29 input.sk-toggleable__control:checked~div.sk-toggleable__content {max-height: 200px;max-width: 100%;overflow: auto;}#sk-container-id-29 input.sk-toggleable__control:checked~label.sk-toggleable__label-arrow:before {content: \"▾\";}#sk-container-id-29 div.sk-estimator input.sk-toggleable__control:checked~label.sk-toggleable__label {background-color: #d4ebff;}#sk-container-id-29 div.sk-label input.sk-toggleable__control:checked~label.sk-toggleable__label {background-color: #d4ebff;}#sk-container-id-29 input.sk-hidden--visually {border: 0;clip: rect(1px 1px 1px 1px);clip: rect(1px, 1px, 1px, 1px);height: 1px;margin: -1px;overflow: hidden;padding: 0;position: absolute;width: 1px;}#sk-container-id-29 div.sk-estimator {font-family: monospace;background-color: #f0f8ff;border: 1px dotted black;border-radius: 0.25em;box-sizing: border-box;margin-bottom: 0.5em;}#sk-container-id-29 div.sk-estimator:hover {background-color: #d4ebff;}#sk-container-id-29 div.sk-parallel-item::after {content: \"\";width: 100%;border-bottom: 1px solid gray;flex-grow: 1;}#sk-container-id-29 div.sk-label:hover label.sk-toggleable__label {background-color: #d4ebff;}#sk-container-id-29 div.sk-serial::before {content: \"\";position: absolute;border-left: 1px solid gray;box-sizing: border-box;top: 0;bottom: 0;left: 50%;z-index: 0;}#sk-container-id-29 div.sk-serial {display: flex;flex-direction: column;align-items: center;background-color: white;padding-right: 0.2em;padding-left: 0.2em;position: relative;}#sk-container-id-29 div.sk-item {position: relative;z-index: 1;}#sk-container-id-29 div.sk-parallel {display: flex;align-items: stretch;justify-content: center;background-color: white;position: relative;}#sk-container-id-29 div.sk-item::before, #sk-container-id-29 div.sk-parallel-item::before {content: \"\";position: absolute;border-left: 1px solid gray;box-sizing: border-box;top: 0;bottom: 0;left: 50%;z-index: -1;}#sk-container-id-29 div.sk-parallel-item {display: flex;flex-direction: column;z-index: 1;position: relative;background-color: white;}#sk-container-id-29 div.sk-parallel-item:first-child::after {align-self: flex-end;width: 50%;}#sk-container-id-29 div.sk-parallel-item:last-child::after {align-self: flex-start;width: 50%;}#sk-container-id-29 div.sk-parallel-item:only-child::after {width: 0;}#sk-container-id-29 div.sk-dashed-wrapped {border: 1px dashed gray;margin: 0 0.4em 0.5em 0.4em;box-sizing: border-box;padding-bottom: 0.4em;background-color: white;}#sk-container-id-29 div.sk-label label {font-family: monospace;font-weight: bold;display: inline-block;line-height: 1.2em;}#sk-container-id-29 div.sk-label-container {text-align: center;}#sk-container-id-29 div.sk-container {/* jupyter's `normalize.less` sets `[hidden] { display: none; }` but bootstrap.min.css set `[hidden] { display: none !important; }` so we also need the `!important` here to be able to override the default hidden behavior on the sphinx rendered scikit-learn.org. See: https://github.com/scikit-learn/scikit-learn/issues/21755 */display: inline-block !important;position: relative;}#sk-container-id-29 div.sk-text-repr-fallback {display: none;}</style><div id=\"sk-container-id-29\" class=\"sk-top-container\"><div class=\"sk-text-repr-fallback\"><pre>KNeighborsRegressor(n_neighbors=2)</pre><b>In a Jupyter environment, please rerun this cell to show the HTML representation or trust the notebook. <br />On GitHub, the HTML representation is unable to render, please try loading this page with nbviewer.org.</b></div><div class=\"sk-container\" hidden><div class=\"sk-item\"><div class=\"sk-estimator sk-toggleable\"><input class=\"sk-toggleable__control sk-hidden--visually\" id=\"sk-estimator-id-29\" type=\"checkbox\" checked><label for=\"sk-estimator-id-29\" class=\"sk-toggleable__label sk-toggleable__label-arrow\">KNeighborsRegressor</label><div class=\"sk-toggleable__content\"><pre>KNeighborsRegressor(n_neighbors=2)</pre></div></div></div></div></div>"
      ],
      "text/plain": [
       "KNeighborsRegressor(n_neighbors=2)"
      ]
     },
     "execution_count": 261,
     "metadata": {},
     "output_type": "execute_result"
    }
   ],
   "source": [
    "KNN = KNeighborsRegressor(n_neighbors=2)\n",
    "KNN.fit(X_train_vectorized, y_train)"
   ]
  },
  {
   "cell_type": "code",
   "execution_count": 262,
   "id": "40d1a4a7",
   "metadata": {},
   "outputs": [
    {
     "data": {
      "text/plain": [
       "0.7936604417878128"
      ]
     },
     "execution_count": 262,
     "metadata": {},
     "output_type": "execute_result"
    }
   ],
   "source": [
    "KNN.score(X_train_vectorized, y_train)"
   ]
  },
  {
   "cell_type": "code",
   "execution_count": 288,
   "id": "a814230c",
   "metadata": {},
   "outputs": [],
   "source": [
    "#predictionKNN = KNN.predict(vect.transform(X_test))\n",
    "#print('AUC: ', roc_auc_score(y_test, predictionKNN))"
   ]
  },
  {
   "cell_type": "code",
   "execution_count": null,
   "id": "6b8f9c3d",
   "metadata": {},
   "outputs": [],
   "source": []
  }
 ],
 "metadata": {
  "kernelspec": {
   "display_name": "Python 3 (ipykernel)",
   "language": "python",
   "name": "python3"
  },
  "language_info": {
   "codemirror_mode": {
    "name": "ipython",
    "version": 3
   },
   "file_extension": ".py",
   "mimetype": "text/x-python",
   "name": "python",
   "nbconvert_exporter": "python",
   "pygments_lexer": "ipython3",
   "version": "3.9.12"
  }
 },
 "nbformat": 4,
 "nbformat_minor": 5
}
